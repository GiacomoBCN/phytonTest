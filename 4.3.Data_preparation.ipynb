{
 "cells": [
  {
   "cell_type": "markdown",
   "id": "0048d0f8",
   "metadata": {},
   "source": [
    "# Data Preparation\n",
    "\n",
    "Modify the data so ML algorithms can properly learn from it."
   ]
  },
  {
   "cell_type": "markdown",
   "id": "6b2a20c5",
   "metadata": {},
   "source": [
    "### Imports"
   ]
  },
  {
   "cell_type": "code",
   "execution_count": null,
   "id": "e1d3db83",
   "metadata": {},
   "outputs": [],
   "source": [
    "# Import necessary libraries, functions, objects...\n",
    "\n"
   ]
  },
  {
   "cell_type": "markdown",
   "id": "7a9c14b7",
   "metadata": {},
   "source": [
    "### Load dataset"
   ]
  },
  {
   "cell_type": "code",
   "execution_count": null,
   "id": "74553d95",
   "metadata": {},
   "outputs": [],
   "source": []
  },
  {
   "cell_type": "markdown",
   "id": "58d6b05f",
   "metadata": {},
   "source": [
    "## Select Data\n",
    "\n",
    "After the previous exploration you may decide to use or not use some of the data sets.\n",
    "\n",
    "For this exercise there is **no decision to make, you use the only data set we have**."
   ]
  },
  {
   "cell_type": "markdown",
   "id": "f6cf4a72",
   "metadata": {},
   "source": [
    "## Clean Data"
   ]
  },
  {
   "cell_type": "markdown",
   "id": "0eb46e10",
   "metadata": {},
   "source": [
    "### Remove unnecessary features (if any)"
   ]
  },
  {
   "cell_type": "code",
   "execution_count": null,
   "id": "40bfa91d",
   "metadata": {},
   "outputs": [],
   "source": []
  },
  {
   "cell_type": "markdown",
   "id": "2559975c",
   "metadata": {},
   "source": [
    "### Deal with null or erroneous values (if any)"
   ]
  },
  {
   "cell_type": "code",
   "execution_count": null,
   "id": "c18a4904",
   "metadata": {},
   "outputs": [],
   "source": []
  },
  {
   "cell_type": "markdown",
   "id": "62bdf917",
   "metadata": {},
   "source": [
    "### Deal with duplicated rows that are errors (if any)"
   ]
  },
  {
   "cell_type": "code",
   "execution_count": null,
   "id": "4f977333",
   "metadata": {},
   "outputs": [],
   "source": []
  },
  {
   "cell_type": "markdown",
   "id": "3f00c0eb",
   "metadata": {},
   "source": [
    "### Decide what to do with outliers (if any)\n",
    "\n",
    "Normally during this step you may decide to remove or change some outliers. However, **for this exercise do not remove any outliers**, leave them as they are."
   ]
  },
  {
   "cell_type": "markdown",
   "id": "51aefefd",
   "metadata": {},
   "source": [
    "## Construct Data\n",
    "\n",
    "Decide if you want to create new features from the existing ones. You can be as creative as you want."
   ]
  },
  {
   "cell_type": "code",
   "execution_count": null,
   "id": "e366d6b9",
   "metadata": {},
   "outputs": [],
   "source": []
  },
  {
   "cell_type": "markdown",
   "id": "b2a4f15f",
   "metadata": {},
   "source": [
    "## Integrate Data\n",
    "\n",
    "Decide if you want to integrate data from other sources.\n",
    "\n",
    "**This is not needed for the exercises.**."
   ]
  },
  {
   "cell_type": "markdown",
   "id": "7034053b",
   "metadata": {},
   "source": [
    "## Feature Engineering"
   ]
  },
  {
   "cell_type": "markdown",
   "id": "c85fc5e3",
   "metadata": {},
   "source": [
    "### Encoding\n",
    "\n",
    "Apply the encodings that you consider more appropriate for the categorical variables."
   ]
  },
  {
   "cell_type": "code",
   "execution_count": null,
   "id": "eface2ce",
   "metadata": {},
   "outputs": [],
   "source": []
  },
  {
   "cell_type": "markdown",
   "id": "7189ceeb",
   "metadata": {},
   "source": [
    "### Binning\n",
    "\n",
    "Apply binning to some columns if you consider it appropriate."
   ]
  },
  {
   "cell_type": "code",
   "execution_count": null,
   "id": "83e7f5fe",
   "metadata": {},
   "outputs": [],
   "source": []
  },
  {
   "cell_type": "markdown",
   "id": "29d398e7",
   "metadata": {},
   "source": [
    "### High correlations\n",
    "\n",
    "Decide what to do with features that are very highly correlated, if any."
   ]
  },
  {
   "cell_type": "code",
   "execution_count": null,
   "id": "a6530abc",
   "metadata": {},
   "outputs": [],
   "source": []
  }
 ],
 "metadata": {
  "language_info": {
   "name": "python"
  }
 },
 "nbformat": 4,
 "nbformat_minor": 5
}
