{
 "cells": [
  {
   "cell_type": "markdown",
   "id": "c8bc9166",
   "metadata": {},
   "source": [
    "# Numpy Exercices\n",
    "\n",
    "- All the exercises in this section must be implemented using the `numpy` library.\n",
    "- The vast majority of exercises can be solved **without** any `for` or `while` loop, just using Numpy's functions or vectorized operations.\n",
    "- The vast majority of exercises can be solved with at most 1-6 lines of code.\n",
    "- If you don't know how to solve something, feel free to search on the internet about your problem. For example, `\"How to sort an array in numpy?\"`.\n",
    "- It is better if you don't use ChatGPT for finding the solution, so you get used to program with `numpy`."
   ]
  },
  {
   "cell_type": "code",
   "execution_count": 51,
   "id": "f67279d6",
   "metadata": {},
   "outputs": [],
   "source": [
    "import numpy as np"
   ]
  },
  {
   "cell_type": "markdown",
   "id": "4dfd6eff",
   "metadata": {},
   "source": [
    "## Zeros\n",
    "\n",
    "Initialize a null vector (with zeroes) of length 20."
   ]
  },
  {
   "cell_type": "code",
   "execution_count": 52,
   "id": "5583a4fe",
   "metadata": {},
   "outputs": [
    {
     "name": "stdout",
     "output_type": "stream",
     "text": [
      "[0. 0. 0. 0. 0. 0. 0. 0. 0. 0. 0. 0. 0. 0. 0. 0. 0. 0. 0. 0.]\n"
     ]
    }
   ],
   "source": [
    "vect = np.zeros(20)\n",
    "print (vect)\n"
   ]
  },
  {
   "cell_type": "markdown",
   "id": "1c06071c",
   "metadata": {},
   "source": [
    "## Matrix Init\n",
    "\n",
    "Initialize a null matrix (with zeros) with size 3x2."
   ]
  },
  {
   "cell_type": "code",
   "execution_count": 53,
   "id": "79fb07dc",
   "metadata": {},
   "outputs": [
    {
     "name": "stdout",
     "output_type": "stream",
     "text": [
      "[[0. 0.]\n",
      " [0. 0.]\n",
      " [0. 0.]]\n"
     ]
    }
   ],
   "source": [
    "mat = np.zeros((3,2))\n",
    "\n",
    "print (mat)"
   ]
  },
  {
   "cell_type": "markdown",
   "id": "9086b01e",
   "metadata": {},
   "source": [
    "## Replace\n",
    "\n",
    "Replace the minimum element of a random vector with a 0."
   ]
  },
  {
   "cell_type": "code",
   "execution_count": 83,
   "id": "d2c2741d",
   "metadata": {},
   "outputs": [
    {
     "name": "stdout",
     "output_type": "stream",
     "text": [
      "prima [4 0 1 8 6 4 2 0 3 4]\n",
      "0\n",
      "dopo [ 4 99  1  8  6  4  2 99  3  4]\n"
     ]
    }
   ],
   "source": [
    "rng = np.random.default_rng()\n",
    "a = rng.integers(0, 10, size=10)\n",
    "print (\"prima\", a)\n",
    "min_a = a.min()\n",
    "print (min_a)\n",
    "\n",
    "if min_a == 0:\n",
    "    a[a==0] = 99\n",
    "else:\n",
    "    a[a==min_a]= 0\n",
    "\n",
    "print (\"dopo\", a)"
   ]
  },
  {
   "cell_type": "markdown",
   "id": "33d23b7d",
   "metadata": {},
   "source": []
  },
  {
   "cell_type": "markdown",
   "id": "4cbf94a9",
   "metadata": {},
   "source": [
    "## Consecutive\n",
    "\n",
    "Create a vector with all consecutive values between 12 and 38."
   ]
  },
  {
   "cell_type": "code",
   "execution_count": 88,
   "id": "5a6423c8",
   "metadata": {},
   "outputs": [
    {
     "name": "stdout",
     "output_type": "stream",
     "text": [
      "[12 13 14 15 16 17 18 19 20 21 22 23 24 25 26 27 28 29 30 31 32 33 34 35\n",
      " 36 37]\n"
     ]
    }
   ],
   "source": [
    "b= np.arange(12,38)\n",
    "print (b)"
   ]
  },
  {
   "cell_type": "markdown",
   "id": "e111c6ba",
   "metadata": {},
   "source": [
    "## Vector Init\n",
    "\n",
    "Initialize a vector of length 10 with integer random numbers between 1 and 20."
   ]
  },
  {
   "cell_type": "code",
   "execution_count": 90,
   "id": "9b9aa163",
   "metadata": {},
   "outputs": [
    {
     "name": "stdout",
     "output_type": "stream",
     "text": [
      "prima [ 7 13  7 18 15 15 13 17 17 19]\n"
     ]
    }
   ],
   "source": [
    "rng = np.random.default_rng()\n",
    "c = rng.integers(1, 20, size=10)\n",
    "print (\"prima\", c)"
   ]
  },
  {
   "cell_type": "markdown",
   "id": "ccbe9647",
   "metadata": {},
   "source": [
    "a) Filter the elements that are greater than 3 and less than 12."
   ]
  },
  {
   "cell_type": "code",
   "execution_count": null,
   "id": "7d30ca90",
   "metadata": {},
   "outputs": [],
   "source": []
  },
  {
   "cell_type": "markdown",
   "id": "bae1859e",
   "metadata": {},
   "source": [
    "b) Filter the elemetns that are less than or equal to 5 or greater than 15."
   ]
  },
  {
   "cell_type": "code",
   "execution_count": null,
   "id": "2a74a6ec",
   "metadata": {},
   "outputs": [],
   "source": []
  },
  {
   "cell_type": "markdown",
   "id": "0a5ebc0d",
   "metadata": {},
   "source": [
    "## Random Matrix\n",
    "\n",
    "Create a 4x4 matrix with integer random numbers between 0 and 5."
   ]
  },
  {
   "cell_type": "code",
   "execution_count": null,
   "id": "71d1ed76",
   "metadata": {},
   "outputs": [],
   "source": []
  },
  {
   "cell_type": "markdown",
   "id": "33f33aff",
   "metadata": {},
   "source": [
    "## Not Zero\n",
    "\n",
    "Find the indices of the elements that are not 0 in the vector: [2, 1, 0, 0, 3, 1, 0]."
   ]
  },
  {
   "cell_type": "code",
   "execution_count": 55,
   "id": "6f51dcf8",
   "metadata": {},
   "outputs": [],
   "source": [
    "v = np.array([2, 1, 0, 0, 3, 1, 0])"
   ]
  },
  {
   "cell_type": "markdown",
   "id": "34a1640c",
   "metadata": {},
   "source": [
    "## Statistics\n",
    "\n",
    "Create a random vector of length 10 and find the minimum, maximum, mean and standard deviation."
   ]
  },
  {
   "cell_type": "code",
   "execution_count": null,
   "id": "fcfd6d8b",
   "metadata": {},
   "outputs": [],
   "source": []
  },
  {
   "cell_type": "markdown",
   "id": "dace7b96",
   "metadata": {},
   "source": [
    "## Surround\n",
    "\n",
    "Create a 10x10 matrix with zeroes inside and ones surrounding them, like the following:\n",
    "\n",
    "```\n",
    "[[1., 1., 1., 1., 1., 1., 1., 1., 1., 1.],\n",
    "[1., 0., 0., 0., 0., 0., 0., 0., 0., 1.],\n",
    "[1., 0., 0., 0., 0., 0., 0., 0., 0., 1.],\n",
    "[1., 0., 0., 0., 0., 0., 0., 0., 0., 1.],\n",
    "[1., 0., 0., 0., 0., 0., 0., 0., 0., 1.],\n",
    "[1., 0., 0., 0., 0., 0., 0., 0., 0., 1.],\n",
    "[1., 0., 0., 0., 0., 0., 0., 0., 0., 1.],\n",
    "[1., 0., 0., 0., 0., 0., 0., 0., 0., 1.],\n",
    "[1., 0., 0., 0., 0., 0., 0., 0., 0., 1.],\n",
    "[1., 1., 1., 1., 1., 1., 1., 1., 1., 1.]]\n",
    "```"
   ]
  },
  {
   "cell_type": "code",
   "execution_count": null,
   "id": "b54a784d",
   "metadata": {},
   "outputs": [],
   "source": []
  },
  {
   "cell_type": "markdown",
   "id": "0b1c9eda",
   "metadata": {},
   "source": [
    "## Zero Replace\n",
    "\n",
    "Define a function that, given a vector, returns all the elements greater than 10 replaced by 0.\n",
    "\n",
    "Example: [4, 7, 15, 21, 3, 34] → [4, 7, 0, 0, 3, 0]"
   ]
  },
  {
   "cell_type": "code",
   "execution_count": null,
   "id": "5bcec26a",
   "metadata": {},
   "outputs": [],
   "source": []
  },
  {
   "cell_type": "markdown",
   "id": "38b7d540",
   "metadata": {},
   "source": [
    "## Negate\n",
    "\n",
    "Define a function that negates (changes the sign) all the elements of a vector with values between 2 and 6.\n",
    "\n",
    "Example: [4, 7, -6, 21, 3, 34] → [-4,  7, 6, 21, -3, 34]"
   ]
  },
  {
   "cell_type": "code",
   "execution_count": null,
   "id": "cdb34430",
   "metadata": {},
   "outputs": [],
   "source": []
  },
  {
   "cell_type": "markdown",
   "id": "8c0cf1f3",
   "metadata": {},
   "source": [
    "## Matrix Negatives\n",
    "\n",
    "Given a matrix containing both positive and negative numbers, modify it so:\n",
    "- Each **positive number** remains unchanged.\n",
    "- Each **negative number** is replaced by the sum of all positive numbers in the same column.\n",
    "\n",
    "For example, this matrix:\n",
    "\n",
    "```\n",
    "np.array([\n",
    "    [ 5, -2,  3],\n",
    "    [-1,  4, -6],\n",
    "    [ 2, -3,  1]\n",
    "])\n",
    "```\n",
    "\n",
    "becomes:\n",
    "\n",
    "```\n",
    "np.array([\n",
    "    [5, 4, 3],\n",
    "    [7, 4, 4],\n",
    "    [2, 4, 1]\n",
    "])\n",
    "```\n",
    "\n",
    "Note: The `np.where()` function may be very useful."
   ]
  },
  {
   "cell_type": "code",
   "execution_count": 56,
   "id": "341757d5",
   "metadata": {},
   "outputs": [],
   "source": [
    "m = np.array([\n",
    "    [ 5, -2,  3],\n",
    "    [-1,  4, -6],\n",
    "    [ 2, -3,  1]\n",
    "])"
   ]
  },
  {
   "cell_type": "code",
   "execution_count": null,
   "id": "e9a6f246",
   "metadata": {},
   "outputs": [],
   "source": []
  },
  {
   "cell_type": "markdown",
   "id": "d37eb6c4",
   "metadata": {},
   "source": [
    "## Dates\n",
    "\n",
    "Get the dates for today, yesterday and tomorrow. For today's date, you can use `np.datetime64('today')` then subtract or add 1 day to that."
   ]
  },
  {
   "cell_type": "code",
   "execution_count": null,
   "id": "e2d7e716",
   "metadata": {},
   "outputs": [],
   "source": []
  },
  {
   "cell_type": "markdown",
   "id": "63025a56",
   "metadata": {},
   "source": [
    "## September\n",
    "\n",
    "Get all dates in September 2023."
   ]
  },
  {
   "cell_type": "code",
   "execution_count": null,
   "id": "f1c5fbd0",
   "metadata": {},
   "outputs": [],
   "source": []
  },
  {
   "cell_type": "markdown",
   "id": "dc8c1167",
   "metadata": {},
   "source": [
    "## Week\n",
    "\n",
    "Create an array of dates starting from today and covering the next 7 days."
   ]
  },
  {
   "cell_type": "code",
   "execution_count": null,
   "id": "647d0d07",
   "metadata": {},
   "outputs": [],
   "source": []
  },
  {
   "cell_type": "markdown",
   "id": "c7a83337",
   "metadata": {},
   "source": [
    "## Diff\n",
    "\n",
    "Given an array of dates, find the differences (in days) between each date and the first date in days."
   ]
  },
  {
   "cell_type": "code",
   "execution_count": 57,
   "id": "c1e3cef5",
   "metadata": {},
   "outputs": [],
   "source": [
    "dates = np.array(['2023-08-14', '2023-08-17', '2023-08-20', '2025-10-10'], dtype='datetime64')"
   ]
  },
  {
   "cell_type": "markdown",
   "id": "3132a74a",
   "metadata": {},
   "source": [
    "## Closest\n",
    "\n",
    "Define a function `closest(v)` that, given a number $N$ and a vector, returns the element closest to $N$. In case of a tie return any element."
   ]
  },
  {
   "cell_type": "code",
   "execution_count": null,
   "id": "08e2734c",
   "metadata": {},
   "outputs": [],
   "source": []
  },
  {
   "cell_type": "code",
   "execution_count": 58,
   "id": "5f4b4985",
   "metadata": {},
   "outputs": [
    {
     "ename": "NameError",
     "evalue": "name 'closest' is not defined",
     "output_type": "error",
     "traceback": [
      "\u001b[31m---------------------------------------------------------------------------\u001b[39m",
      "\u001b[31mNameError\u001b[39m                                 Traceback (most recent call last)",
      "\u001b[36mCell\u001b[39m\u001b[36m \u001b[39m\u001b[32mIn[58]\u001b[39m\u001b[32m, line 1\u001b[39m\n\u001b[32m----> \u001b[39m\u001b[32m1\u001b[39m \u001b[38;5;28;01massert\u001b[39;00m \u001b[43mclosest\u001b[49m([\u001b[32m1\u001b[39m, \u001b[32m2\u001b[39m, \u001b[32m3\u001b[39m, \u001b[32m4\u001b[39m], \u001b[32m2\u001b[39m) == \u001b[32m2\u001b[39m\n\u001b[32m      2\u001b[39m \u001b[38;5;28;01massert\u001b[39;00m closest([\u001b[32m1\u001b[39m, \u001b[32m2\u001b[39m, \u001b[32m3\u001b[39m, \u001b[32m4\u001b[39m], \u001b[32m5\u001b[39m) == \u001b[32m4\u001b[39m\n\u001b[32m      3\u001b[39m \u001b[38;5;28;01massert\u001b[39;00m closest([\u001b[32m1\u001b[39m, \u001b[32m2\u001b[39m, \u001b[32m3\u001b[39m, \u001b[32m4\u001b[39m], -\u001b[32m3\u001b[39m) == \u001b[32m1\u001b[39m\n",
      "\u001b[31mNameError\u001b[39m: name 'closest' is not defined"
     ]
    }
   ],
   "source": [
    "assert closest([1, 2, 3, 4], 2) == 2\n",
    "assert closest([1, 2, 3, 4], 5) == 4\n",
    "assert closest([1, 2, 3, 4], -3) == 1\n",
    "assert closest([1, 2, 2, 3, 4], 2) == 2\n",
    "assert closest([1, 2, 2, 3, 4], 2.4) == 2\n",
    "assert closest([1, 2, 2, 3, 4], 2.6) == 3"
   ]
  },
  {
   "cell_type": "markdown",
   "id": "aa1b4cbb",
   "metadata": {},
   "source": [
    "## N-Greater\n",
    "\n",
    "Define a function that, given a positive number $N$ and a vector, returns the $N$ greater elements from the vector."
   ]
  },
  {
   "cell_type": "markdown",
   "id": "687178d4",
   "metadata": {},
   "source": []
  },
  {
   "cell_type": "code",
   "execution_count": null,
   "id": "79add517",
   "metadata": {},
   "outputs": [],
   "source": []
  },
  {
   "cell_type": "markdown",
   "id": "060038d9",
   "metadata": {},
   "source": [
    "## Unique\n",
    "\n",
    "Create a random vector of length 20 with values between 1 and 8. Which unique elements (without repetition) where created?"
   ]
  },
  {
   "cell_type": "code",
   "execution_count": null,
   "id": "626d4e81",
   "metadata": {},
   "outputs": [],
   "source": []
  },
  {
   "cell_type": "markdown",
   "id": "e99656aa",
   "metadata": {},
   "source": [
    "## NaN\n",
    "\n",
    "What will be the result of the following statements?\n",
    "\n",
    "First try to understand the concepts of `np.nan`, `np.inf` and `set`. Next, try to mentally solve the statements by using your logic. Finally, test if your expected results are correct. \n",
    "\n",
    "```python\n",
    "0 * np.nan\n",
    "np.nan == np.nan\n",
    "np.inf > np.nan\n",
    "np.nan - np.nan\n",
    "np.nan in set([np.nan])\n",
    "```"
   ]
  },
  {
   "cell_type": "code",
   "execution_count": null,
   "id": "ee474b70",
   "metadata": {},
   "outputs": [],
   "source": []
  },
  {
   "cell_type": "markdown",
   "id": "547e3d90",
   "metadata": {},
   "source": [
    "## Highest Mean\n",
    "\n",
    "Given a 10x10 matrix of random values between 0 and 1, find and print the row with the highest mean value."
   ]
  },
  {
   "cell_type": "code",
   "execution_count": null,
   "id": "03258afc",
   "metadata": {},
   "outputs": [],
   "source": []
  },
  {
   "cell_type": "markdown",
   "id": "177ae4d1",
   "metadata": {},
   "source": [
    "# Python vs Numpy\n",
    "\n",
    " For each one of the following exercises implement the functions using only Python, without any external libraries. Then compare the execution time with the `%%timeit` magic command (see the first example)."
   ]
  },
  {
   "cell_type": "markdown",
   "id": "150bc812",
   "metadata": {},
   "source": [
    "## Maximum\n",
    "\n",
    "Write a function in Python that finds the maximum value of a list of numbers. Code it yourself, do not use the Python's `max()` function.\n",
    "\n",
    "Create a list of random numbers with 10,000 elements or more.\n",
    "\n",
    "Then test the average time it takes to run each of the `max` functions with the list (using the `%%timeit` magic command):\n",
    "- Your custom `max` function.\n",
    "- Python's built-in `max()` function.\n",
    "- Numpy's `max()` function."
   ]
  },
  {
   "cell_type": "code",
   "execution_count": null,
   "id": "222346b1",
   "metadata": {},
   "outputs": [],
   "source": []
  },
  {
   "cell_type": "markdown",
   "id": "9cfeaaa5",
   "metadata": {},
   "source": [
    "## Mean\n",
    "\n",
    "Write a function in Python that finds the average value of a list of numbers. Code it yourself, do not use Numpy's `mean()` function.\n",
    "\n",
    "Create a list of random numbers with 10,000 elements or more.\n",
    "\n",
    "Then test the average time it takes to run each of the `mean` functions with the list (using the `%%timeit` magic command):\n",
    "- Your custom `mean` function.\n",
    "- Numpy's `mean()` function."
   ]
  },
  {
   "cell_type": "code",
   "execution_count": null,
   "id": "f3082557",
   "metadata": {},
   "outputs": [],
   "source": []
  },
  {
   "cell_type": "markdown",
   "id": "bcf4d6c8",
   "metadata": {},
   "source": [
    "##  One-hot Encoding\n",
    "\n",
    "Implement a function that returns a matrix with the one-hot encoding of a vector.\n",
    "\n",
    "One-hot encoding: https://www.datacamp.com/tutorial/one-hot-encoding-python-tutorial\n",
    "\n",
    "- Example: \n",
    "    - Input: [0, 2, 1, 2, 0, 1]\n",
    "    - Output:\n",
    "```\n",
    "[[1., 0., 0.],\n",
    "[0., 0., 1.],\n",
    "[0., 1., 0.],\n",
    "[0., 0., 1.],\n",
    "[1., 0., 0.],\n",
    "[0., 1., 0.]]\n",
    "```"
   ]
  },
  {
   "cell_type": "code",
   "execution_count": null,
   "id": "228ddcbb",
   "metadata": {},
   "outputs": [],
   "source": []
  },
  {
   "cell_type": "markdown",
   "id": "bf103599",
   "metadata": {},
   "source": [
    "## Min-Max Scaling\n",
    "\n",
    "Implement a function `minmax_scale(values)` that rescales a list (or NumPy array) of numeric values so that all values fall within the range **[0, 1]**. Specifically, the smallest number will have the value of $0$, while the largest one will have the value of $1$. The rest of the numbers will fall in between.\n",
    "\n",
    "This kind of normalization is common in machine learning, ensuring that all features contribute equally to a model’s training process, regardless of their original scale.\n",
    "\n",
    "Given an array of values $X$, the formula for Min-Max scaling for each one of its values $x_i$ is:\n",
    "\n",
    "$x_i\\_scaled = (x_i - min(X)) / (max(X) - min(X))$\n",
    "\n"
   ]
  },
  {
   "cell_type": "code",
   "execution_count": null,
   "id": "9bbb64f6",
   "metadata": {},
   "outputs": [],
   "source": []
  },
  {
   "cell_type": "markdown",
   "id": "7a98ca69",
   "metadata": {},
   "source": [
    "## Fruit Ninja\n",
    "\n",
    "You are a Fruit Ninja master, slicing fruits with precision. You have sliced 100 fruits, each giving you a random score between 1 and 100. However, due to a ninja technique, every third score is doubled. Calculate your total score."
   ]
  },
  {
   "cell_type": "code",
   "execution_count": null,
   "id": "87dbf1eb",
   "metadata": {},
   "outputs": [],
   "source": []
  },
  {
   "cell_type": "markdown",
   "id": "7b937b83",
   "metadata": {},
   "source": [
    "## Time Traveler\n",
    "\n",
    "A historian time traveler wants to study major events in the past century. Create an array of dates starting from 1923-08-14 to 2023-08-14 in 10-year increments, then randomly select 3 dates to travel to."
   ]
  },
  {
   "cell_type": "code",
   "execution_count": null,
   "id": "137f7069",
   "metadata": {},
   "outputs": [],
   "source": []
  },
  {
   "cell_type": "markdown",
   "id": "3083b179",
   "metadata": {},
   "source": [
    "## Aliens\n",
    "\n",
    "Aliens are transmitting binary messages — arrays of 100 elements containing only 0s and 1s.\n",
    "\n",
    "However, their real message is hidden inside the signal: it always starts and ends with 1, and everything else before the first 1 and after the last 1 is just noise.\n",
    "\n",
    "For example, given the message `[0, 0, 0, 1, 0, 1, 1, 0, 0, 1, 0, 0]`, the real message you have to extract is the range from the first 1 until the last one, both included `[1, 0, 1, 1, 0, 0, 1]`."
   ]
  },
  {
   "cell_type": "code",
   "execution_count": null,
   "id": "2376bea8",
   "metadata": {},
   "outputs": [],
   "source": [
    "# Function that generates a random alien message\n",
    "\n",
    "def get_aliens_message():\n",
    "    # Creating a message where majority is zeros\n",
    "    message = np.zeros(100, dtype=int)\n",
    "\n",
    "    # Introducing the real message\n",
    "    start_index = np.random.randint(10, 40)\n",
    "    end_index = np.random.randint(60, 90)\n",
    "\n",
    "    message[start_index:end_index] = np.random.randint(2, size=end_index-start_index)\n",
    "    message[start_index] = 1\n",
    "    message[end_index] = 1\n",
    "    return message"
   ]
  },
  {
   "cell_type": "code",
   "execution_count": null,
   "id": "a233b00f",
   "metadata": {},
   "outputs": [],
   "source": [
    "message = get_aliens_message()"
   ]
  },
  {
   "cell_type": "code",
   "execution_count": null,
   "id": "b62f76fd",
   "metadata": {},
   "outputs": [],
   "source": []
  },
  {
   "cell_type": "markdown",
   "id": "84e93f70",
   "metadata": {},
   "source": [
    "## Temperature Log\n",
    "\n",
    "Implement the function `detect_temperature_anomalies(values)`.\n",
    "\n",
    "You have a 365-day temperature log for a city, represented as an array of floats. Identify the days where the temperature is at least 2 standard deviations away from the mean."
   ]
  },
  {
   "cell_type": "code",
   "execution_count": null,
   "id": "4161bd13",
   "metadata": {},
   "outputs": [
    {
     "data": {
      "text/plain": [
       "array([  6,  37,  81, 110, 146, 156, 161, 187, 192, 233, 263, 275, 318,\n",
       "       336, 361])"
      ]
     },
     "execution_count": 57,
     "metadata": {},
     "output_type": "execute_result"
    }
   ],
   "source": [
    "# Simulated temperatures around 25°C with std deviation 5°C\n",
    "temps = np.random.normal(25, 5, 365)\n",
    "detect_temperature_anomalies(temps)"
   ]
  },
  {
   "cell_type": "markdown",
   "id": "62a87a5b",
   "metadata": {},
   "source": [
    "## Max Pooling\n",
    "\n",
    "In Convolutional Neural Networks (CNNs), used for image processing, there’s a step called max pooling. It helps reduce the size of a matrix (often an image) while keeping only the most important information — the maximum value within small regions.\n",
    "\n",
    "Write a function `max_pooling(matrix)` that performs 2×2 max pooling on a given matrix. That is, for each 2×2 region, take the maximum value and add it to a new matrix. Finally, return the resulting smaller matrix.\n",
    "\n",
    "If the input matrix has dimensions $m · n$, the resulting matrix will have dimensions $(m−1) · (n−1)$.\n",
    "\n",
    "For example, for the input matrix\n",
    "\n",
    "[\n",
    "\n",
    "    [1, 3, 2, 4]\n",
    "\n",
    "    [5, 6, 1, 0]\n",
    "\n",
    "    [2, 8, 3, 1]\n",
    "\n",
    "    [4, 7, 2, 5]\n",
    "],\n",
    "\n",
    "the resulting matrix from the max pooling operation is\n",
    "\n",
    "[\n",
    "   \n",
    "    [6 6 4]\n",
    "\n",
    "    [8 8 3]\n",
    "\n",
    "    [8 8 5]\n",
    "]\n",
    "\n",
    "**Explanation**:\n",
    "- The function slides a 2×2 window one step at a time.\n",
    "- For the top-left region of 2×2 that contains the values 1, 3, 5 and 6, the maximum value is 6. This gives the first value in the top-left of the returned matrix.\n",
    "- These repeats across the entire matrix for each 2×2 region."
   ]
  },
  {
   "cell_type": "code",
   "execution_count": null,
   "id": "4969c672",
   "metadata": {},
   "outputs": [],
   "source": [
    "matrix = np.array([\n",
    "    [1, 3, 2, 4],\n",
    "    [5, 6, 1, 0],\n",
    "    [2, 8, 3, 1],\n",
    "    [4, 7, 2, 5],\n",
    "])"
   ]
  },
  {
   "cell_type": "markdown",
   "id": "d71ac435",
   "metadata": {},
   "source": [
    "## The Game of Life\n",
    "\n",
    "Implement \"The Game of Life\" using Numpy."
   ]
  },
  {
   "cell_type": "code",
   "execution_count": null,
   "id": "f3e468fe",
   "metadata": {},
   "outputs": [],
   "source": []
  }
 ],
 "metadata": {
  "kernelspec": {
   "display_name": "Python 3",
   "language": "python",
   "name": "python3"
  },
  "language_info": {
   "codemirror_mode": {
    "name": "ipython",
    "version": 3
   },
   "file_extension": ".py",
   "mimetype": "text/x-python",
   "name": "python",
   "nbconvert_exporter": "python",
   "pygments_lexer": "ipython3",
   "version": "3.13.7"
  },
  "toc": {
   "base_numbering": 1,
   "nav_menu": {},
   "number_sections": true,
   "sideBar": true,
   "skip_h1_title": false,
   "title_cell": "Table of Contents",
   "title_sidebar": "Contents",
   "toc_cell": false,
   "toc_position": {
    "height": "calc(100% - 180px)",
    "left": "10px",
    "top": "150px",
    "width": "329px"
   },
   "toc_section_display": true,
   "toc_window_display": true
  },
  "varInspector": {
   "cols": {
    "lenName": 16,
    "lenType": 16,
    "lenVar": 40
   },
   "kernels_config": {
    "python": {
     "delete_cmd_postfix": "",
     "delete_cmd_prefix": "del ",
     "library": "var_list.py",
     "varRefreshCmd": "print(var_dic_list())"
    },
    "r": {
     "delete_cmd_postfix": ") ",
     "delete_cmd_prefix": "rm(",
     "library": "var_list.r",
     "varRefreshCmd": "cat(var_dic_list()) "
    }
   },
   "types_to_exclude": [
    "module",
    "function",
    "builtin_function_or_method",
    "instance",
    "_Feature"
   ],
   "window_display": false
  }
 },
 "nbformat": 4,
 "nbformat_minor": 5
}
