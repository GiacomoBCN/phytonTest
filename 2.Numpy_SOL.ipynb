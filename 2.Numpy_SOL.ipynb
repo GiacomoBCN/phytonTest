{
 "cells": [
  {
   "cell_type": "markdown",
   "id": "37917056",
   "metadata": {},
   "source": [
    "# Numpy Exercices\n",
    "\n",
    "- All the exercises in this section must be implemented using the `numpy` library.\n",
    "- The vast majority of exercises can be solved **without** any `for` or `while` loop, just using Numpy's functions or vectorized operations.\n",
    "- The vast majority of exercises can be solved with at most 1-6 lines of code.\n",
    "- If you don't know how to solve something, feel free to search on the internet about your problem. For example, `\"How to sort an array in numpy?\"`.\n",
    "- It is better if you don't use ChatGPT for finding the solution, so you get used to program with `numpy`."
   ]
  },
  {
   "cell_type": "code",
   "execution_count": null,
   "id": "f67279d6",
   "metadata": {},
   "outputs": [],
   "source": [
    "import numpy as np"
   ]
  },
  {
   "cell_type": "markdown",
   "id": "4dfd6eff",
   "metadata": {},
   "source": [
    "## Zeros\n",
    "\n",
    "Initialize a null vector (with zeroes) of length 20."
   ]
  },
  {
   "cell_type": "code",
   "execution_count": 1,
   "id": "221e2cfc",
   "metadata": {},
   "outputs": [
    {
     "data": {
      "text/plain": [
       "array([0., 0., 0., 0., 0., 0., 0., 0., 0., 0., 0., 0., 0., 0., 0., 0., 0.,\n",
       "       0., 0., 0.])"
      ]
     },
     "execution_count": 1,
     "metadata": {},
     "output_type": "execute_result"
    }
   ],
   "source": [
    "np.zeros(20)"
   ]
  },
  {
   "cell_type": "markdown",
   "id": "1c06071c",
   "metadata": {},
   "source": [
    "## Matrix Init\n",
    "\n",
    "Initialize a null matrix (with zeros) with size 3x2."
   ]
  },
  {
   "cell_type": "code",
   "execution_count": 2,
   "id": "35353801",
   "metadata": {},
   "outputs": [
    {
     "data": {
      "text/plain": [
       "array([[0., 0.],\n",
       "       [0., 0.],\n",
       "       [0., 0.]])"
      ]
     },
     "execution_count": 2,
     "metadata": {},
     "output_type": "execute_result"
    }
   ],
   "source": [
    "np.zeros((3,2))"
   ]
  },
  {
   "cell_type": "markdown",
   "id": "d14903dd",
   "metadata": {},
   "source": [
    "## Replace\n",
    "\n",
    "Replace the minimum element of a random vector with a 0."
   ]
  },
  {
   "cell_type": "code",
   "execution_count": 10,
   "id": "401b2d68",
   "metadata": {},
   "outputs": [
    {
     "data": {
      "text/plain": [
       "array([0.57285348, 0.90757159, 0.16290208, 0.56451768, 0.72194142,\n",
       "       0.69789873, 0.44909756, 0.        , 0.24303745, 0.97388981])"
      ]
     },
     "execution_count": 10,
     "metadata": {},
     "output_type": "execute_result"
    }
   ],
   "source": [
    "v[v.argmin()] = 0\n",
    "v"
   ]
  },
  {
   "cell_type": "markdown",
   "id": "4cbf94a9",
   "metadata": {},
   "source": [
    "## Consecutive\n",
    "\n",
    "Create a vector with all consecutive values between 12 and 38."
   ]
  },
  {
   "cell_type": "code",
   "execution_count": 6,
   "id": "99e5ea43",
   "metadata": {},
   "outputs": [
    {
     "data": {
      "text/plain": [
       "array([12, 13, 14, 15, 16, 17, 18, 19, 20, 21, 22, 23, 24, 25, 26, 27, 28,\n",
       "       29, 30, 31, 32, 33, 34, 35, 36, 37, 38])"
      ]
     },
     "execution_count": 6,
     "metadata": {},
     "output_type": "execute_result"
    }
   ],
   "source": [
    "np.arange(12, 39)"
   ]
  },
  {
   "cell_type": "markdown",
   "id": "e111c6ba",
   "metadata": {},
   "source": [
    "## Vector Init\n",
    "\n",
    "Initialize a vector of length 10 with integer random numbers between 1 and 20."
   ]
  },
  {
   "cell_type": "code",
   "execution_count": 11,
   "id": "2b39c0d9",
   "metadata": {},
   "outputs": [
    {
     "data": {
      "text/plain": [
       "array([ 8,  3,  7, 10, 17, 19, 11,  3,  2,  2])"
      ]
     },
     "execution_count": 11,
     "metadata": {},
     "output_type": "execute_result"
    }
   ],
   "source": [
    "v = np.random.randint(20, size=10)\n",
    "v"
   ]
  },
  {
   "cell_type": "markdown",
   "id": "ccbe9647",
   "metadata": {},
   "source": [
    "a) Filter the elements that are greater than 3 and less than 12."
   ]
  },
  {
   "cell_type": "code",
   "execution_count": 12,
   "id": "696a3b5a",
   "metadata": {},
   "outputs": [
    {
     "data": {
      "text/plain": [
       "array([ 8,  7, 10, 11])"
      ]
     },
     "execution_count": 12,
     "metadata": {},
     "output_type": "execute_result"
    }
   ],
   "source": [
    "v[(v > 3) & (v < 12)]"
   ]
  },
  {
   "cell_type": "markdown",
   "id": "bae1859e",
   "metadata": {},
   "source": [
    "b) Filter the elemetns that are less than or equal to 5 or greater than 15."
   ]
  },
  {
   "cell_type": "code",
   "execution_count": 13,
   "id": "309cadf5",
   "metadata": {},
   "outputs": [
    {
     "data": {
      "text/plain": [
       "array([ 3, 17, 19,  3,  2,  2])"
      ]
     },
     "execution_count": 13,
     "metadata": {},
     "output_type": "execute_result"
    }
   ],
   "source": [
    "v[(v < 5) | (v > 15)]"
   ]
  },
  {
   "cell_type": "markdown",
   "id": "0a5ebc0d",
   "metadata": {},
   "source": [
    "## Random Matrix\n",
    "\n",
    "Create a 4x4 matrix with integer random numbers between 0 and 5."
   ]
  },
  {
   "cell_type": "code",
   "execution_count": 15,
   "id": "f70c8f13",
   "metadata": {},
   "outputs": [
    {
     "data": {
      "text/plain": [
       "array([[4, 5, 0, 5],\n",
       "       [5, 3, 2, 5],\n",
       "       [3, 0, 3, 5],\n",
       "       [5, 3, 5, 2]])"
      ]
     },
     "execution_count": 15,
     "metadata": {},
     "output_type": "execute_result"
    }
   ],
   "source": [
    "np.random.randint(6, size=(4,4))"
   ]
  },
  {
   "cell_type": "markdown",
   "id": "33f33aff",
   "metadata": {},
   "source": [
    "## Not Zero\n",
    "\n",
    "Find the indices of the elements that are not 0 in the vector: [2, 1, 0, 0, 3, 1, 0]."
   ]
  },
  {
   "cell_type": "code",
   "execution_count": 24,
   "id": "95d04e31",
   "metadata": {},
   "outputs": [
    {
     "data": {
      "text/plain": [
       "array([0, 1, 4, 5])"
      ]
     },
     "execution_count": 24,
     "metadata": {},
     "output_type": "execute_result"
    }
   ],
   "source": [
    "v = np.array([2, 1, 0, 0, 3, 1, 0])\n",
    "np.where(v != 0)[0]"
   ]
  },
  {
   "cell_type": "markdown",
   "id": "34a1640c",
   "metadata": {},
   "source": [
    "## Statistics\n",
    "\n",
    "Create a random vector of length 10 and find the minimum, maximum, mean and standard deviation."
   ]
  },
  {
   "cell_type": "code",
   "execution_count": 24,
   "id": "fa1a0a1d",
   "metadata": {},
   "outputs": [
    {
     "data": {
      "text/plain": [
       "(0.9528553516873413,\n",
       " 0.07689562026138008,\n",
       " 0.39214818535806034,\n",
       " 0.265099059517726)"
      ]
     },
     "execution_count": 24,
     "metadata": {},
     "output_type": "execute_result"
    }
   ],
   "source": [
    "v = np.random.random(size=10)\n",
    "v.max(), v.min(), v.mean(), v.std()"
   ]
  },
  {
   "cell_type": "markdown",
   "id": "dace7b96",
   "metadata": {},
   "source": [
    "## Surround\n",
    "\n",
    "Create a 10x10 matrix with zeroes inside and ones surrounding them, like the following:\n",
    "\n",
    "```\n",
    "[[1., 1., 1., 1., 1., 1., 1., 1., 1., 1.],\n",
    "[1., 0., 0., 0., 0., 0., 0., 0., 0., 1.],\n",
    "[1., 0., 0., 0., 0., 0., 0., 0., 0., 1.],\n",
    "[1., 0., 0., 0., 0., 0., 0., 0., 0., 1.],\n",
    "[1., 0., 0., 0., 0., 0., 0., 0., 0., 1.],\n",
    "[1., 0., 0., 0., 0., 0., 0., 0., 0., 1.],\n",
    "[1., 0., 0., 0., 0., 0., 0., 0., 0., 1.],\n",
    "[1., 0., 0., 0., 0., 0., 0., 0., 0., 1.],\n",
    "[1., 0., 0., 0., 0., 0., 0., 0., 0., 1.],\n",
    "[1., 1., 1., 1., 1., 1., 1., 1., 1., 1.]]\n",
    "```"
   ]
  },
  {
   "cell_type": "code",
   "execution_count": 26,
   "id": "8b264362",
   "metadata": {},
   "outputs": [
    {
     "data": {
      "text/plain": [
       "array([[1., 1., 1., 1., 1., 1., 1., 1., 1., 1.],\n",
       "       [1., 0., 0., 0., 0., 0., 0., 0., 0., 1.],\n",
       "       [1., 0., 0., 0., 0., 0., 0., 0., 0., 1.],\n",
       "       [1., 0., 0., 0., 0., 0., 0., 0., 0., 1.],\n",
       "       [1., 0., 0., 0., 0., 0., 0., 0., 0., 1.],\n",
       "       [1., 0., 0., 0., 0., 0., 0., 0., 0., 1.],\n",
       "       [1., 0., 0., 0., 0., 0., 0., 0., 0., 1.],\n",
       "       [1., 0., 0., 0., 0., 0., 0., 0., 0., 1.],\n",
       "       [1., 0., 0., 0., 0., 0., 0., 0., 0., 1.],\n",
       "       [1., 1., 1., 1., 1., 1., 1., 1., 1., 1.]])"
      ]
     },
     "execution_count": 26,
     "metadata": {},
     "output_type": "execute_result"
    }
   ],
   "source": [
    "V = np.ones((10,10))\n",
    "V[1:-1, 1:-1] = 0\n",
    "V"
   ]
  },
  {
   "cell_type": "markdown",
   "id": "0b1c9eda",
   "metadata": {},
   "source": [
    "## Zero Replace\n",
    "\n",
    "Define a function that, given a vector, returns all the elements greater than 10 replaced by 0.\n",
    "\n",
    "Example: [4, 7, 15, 21, 3, 34] → [4, 7, 0, 0, 3, 0]"
   ]
  },
  {
   "cell_type": "code",
   "execution_count": 31,
   "id": "0a1bdce2",
   "metadata": {},
   "outputs": [],
   "source": [
    "def sub10(v):\n",
    "    v = np.array(v)\n",
    "    v[v > 10] = 0\n",
    "    return v"
   ]
  },
  {
   "cell_type": "code",
   "execution_count": 32,
   "id": "4bc01dbd",
   "metadata": {},
   "outputs": [
    {
     "data": {
      "text/plain": [
       "array([4, 7, 0, 0, 3, 0])"
      ]
     },
     "execution_count": 32,
     "metadata": {},
     "output_type": "execute_result"
    }
   ],
   "source": [
    "sub10([4, 7, 15, 21, 3, 34])"
   ]
  },
  {
   "cell_type": "markdown",
   "id": "e8e613af",
   "metadata": {},
   "source": [
    "## Negate\n",
    "\n",
    "Define a function that negates (changes the sign) all the elements of a vector with values between 2 and 6 (including also negative values between -6 and -2).\n",
    "\n",
    "Example: [4, 7, -6, 21, 3, 34] → [-4,  7, 6, 21, -3, 34]"
   ]
  },
  {
   "cell_type": "code",
   "execution_count": 35,
   "id": "d7815957",
   "metadata": {},
   "outputs": [],
   "source": [
    "def reverse_sign(v):\n",
    "    v = np.array(v)\n",
    "    filt = (v >= 2) & (v <= 6)\n",
    "    v[filt] = v[filt] * -1\n",
    "    return v"
   ]
  },
  {
   "cell_type": "code",
   "execution_count": 38,
   "id": "4f988704",
   "metadata": {},
   "outputs": [
    {
     "data": {
      "text/plain": [
       "array([-4,  7, -6, 21, -3, 34])"
      ]
     },
     "execution_count": 38,
     "metadata": {},
     "output_type": "execute_result"
    }
   ],
   "source": [
    "reverse_sign([4, 7, 6, 21, 3, 34])"
   ]
  },
  {
   "cell_type": "markdown",
   "id": "b1ba4ef2",
   "metadata": {},
   "source": [
    "## Matrix Negatives\n",
    "\n",
    "Given a matrix containing both positive and negative numbers, modify it so:\n",
    "- Each **positive number** remains unchanged.\n",
    "- Each **negative number** is replaced by the sum of all positive numbers in the same column.\n",
    "\n",
    "For example, this matrix:\n",
    "\n",
    "```\n",
    "np.array([\n",
    "    [ 5, -2,  3],\n",
    "    [-1,  4, -6],\n",
    "    [ 2, -3,  1]\n",
    "])\n",
    "```\n",
    "\n",
    "becomes:\n",
    "\n",
    "```\n",
    "np.array([\n",
    "    [5, 4, 3],\n",
    "    [7, 4, 4],\n",
    "    [2, 4, 1]\n",
    "])\n",
    "```\n",
    "\n",
    "Note: The `np.where()` function may be very useful."
   ]
  },
  {
   "cell_type": "code",
   "execution_count": 16,
   "id": "8df89568",
   "metadata": {},
   "outputs": [],
   "source": [
    "m = np.array([\n",
    "    [ 5, -2,  3],\n",
    "    [-1,  4, -6],\n",
    "    [ 2, -3,  1]\n",
    "])"
   ]
  },
  {
   "cell_type": "code",
   "execution_count": 17,
   "id": "722158c2",
   "metadata": {},
   "outputs": [
    {
     "data": {
      "text/plain": [
       "array([[5, 4, 3],\n",
       "       [7, 4, 4],\n",
       "       [2, 4, 1]])"
      ]
     },
     "execution_count": 17,
     "metadata": {},
     "output_type": "execute_result"
    }
   ],
   "source": [
    "row_idxs, col_idxs = np.where(m < 0)\n",
    "m[m < 0] = 0\n",
    "cols_sum = m.sum(axis=0)\n",
    "m[row_idxs, col_idxs] = cols_sum[col_idxs]\n",
    "\n",
    "m"
   ]
  },
  {
   "cell_type": "markdown",
   "id": "c80dd1f3",
   "metadata": {},
   "source": [
    "More intuitive way:"
   ]
  },
  {
   "cell_type": "code",
   "execution_count": null,
   "id": "99829444",
   "metadata": {},
   "outputs": [
    {
     "data": {
      "text/plain": [
       "array([[5, 4, 3],\n",
       "       [7, 4, 4],\n",
       "       [2, 4, 1]])"
      ]
     },
     "execution_count": 29,
     "metadata": {},
     "output_type": "execute_result"
    }
   ],
   "source": [
    "idxs = np.where(m < 0)\n",
    "m[m < 0] = 0\n",
    "cols_sum = m.sum(axis=0)\n",
    "\n",
    "for i, j in zip(*idxs):\n",
    "    m[i, j] = cols_sum[j]\n",
    "\n",
    "m"
   ]
  },
  {
   "cell_type": "markdown",
   "id": "926ab24b",
   "metadata": {},
   "source": [
    "There is even a shorter and trickier version:"
   ]
  },
  {
   "cell_type": "code",
   "execution_count": 30,
   "id": "c4d745cc",
   "metadata": {},
   "outputs": [
    {
     "data": {
      "text/plain": [
       "array([[5, 4, 3],\n",
       "       [7, 4, 4],\n",
       "       [2, 4, 1]])"
      ]
     },
     "execution_count": 30,
     "metadata": {},
     "output_type": "execute_result"
    }
   ],
   "source": [
    "# Compute column-wise sums of positive values\n",
    "pos_sums = np.where(m > 0, m, 0).sum(axis=0)\n",
    "\n",
    "# Build result matrix: keep positives, replace negatives by the column sum\n",
    "m = np.where(m > 0, m, pos_sums)\n",
    "\n",
    "m"
   ]
  },
  {
   "cell_type": "markdown",
   "id": "c70644bc",
   "metadata": {},
   "source": [
    "## Dates\n",
    "\n",
    "Get the dates for today, yesterday and tomorrow. For today's date, you can use `np.datetime64('today')` then subtract or add 1 day to that."
   ]
  },
  {
   "cell_type": "code",
   "execution_count": null,
   "id": "76af902c",
   "metadata": {},
   "outputs": [
    {
     "data": {
      "text/plain": [
       "(numpy.datetime64('2022-10-26'),\n",
       " numpy.datetime64('2022-10-27'),\n",
       " numpy.datetime64('2022-10-28'))"
      ]
     },
     "execution_count": 41,
     "metadata": {},
     "output_type": "execute_result"
    }
   ],
   "source": [
    "yesterday = np.datetime64('today') - np.timedelta64(1)\n",
    "today = np.datetime64('today')\n",
    "tomorrow = np.datetime64('today') + np.timedelta64(1)\n",
    "\n",
    "yesterday, today, tomorrow"
   ]
  },
  {
   "cell_type": "markdown",
   "id": "63025a56",
   "metadata": {},
   "source": [
    "## September\n",
    "\n",
    "Get all dates in September 2023."
   ]
  },
  {
   "cell_type": "code",
   "execution_count": 13,
   "id": "dd3488bc",
   "metadata": {},
   "outputs": [
    {
     "data": {
      "text/plain": [
       "array(['2023-09-01', '2023-09-02', '2023-09-03', '2023-09-04',\n",
       "       '2023-09-05', '2023-09-06', '2023-09-07', '2023-09-08',\n",
       "       '2023-09-09', '2023-09-10', '2023-09-11', '2023-09-12',\n",
       "       '2023-09-13', '2023-09-14', '2023-09-15', '2023-09-16',\n",
       "       '2023-09-17', '2023-09-18', '2023-09-19', '2023-09-20',\n",
       "       '2023-09-21', '2023-09-22', '2023-09-23', '2023-09-24',\n",
       "       '2023-09-25', '2023-09-26', '2023-09-27', '2023-09-28',\n",
       "       '2023-09-29', '2023-09-30'], dtype='datetime64[D]')"
      ]
     },
     "execution_count": 13,
     "metadata": {},
     "output_type": "execute_result"
    }
   ],
   "source": [
    "np.arange('2023-09', '2023-10', dtype='datetime64[D]')"
   ]
  },
  {
   "cell_type": "markdown",
   "id": "dc8c1167",
   "metadata": {},
   "source": [
    "## Week\n",
    "\n",
    "Create an array of dates starting from today and covering the next 7 days."
   ]
  },
  {
   "cell_type": "code",
   "execution_count": 26,
   "id": "2d8e26a4",
   "metadata": {},
   "outputs": [
    {
     "data": {
      "text/plain": [
       "array(['2023-08-15', '2023-08-16', '2023-08-17', '2023-08-18',\n",
       "       '2023-08-19', '2023-08-20', '2023-08-21', '2023-08-22'],\n",
       "      dtype='datetime64[D]')"
      ]
     },
     "execution_count": 26,
     "metadata": {},
     "output_type": "execute_result"
    }
   ],
   "source": [
    "np.array([np.datetime64('today') + np.timedelta64(i, 'D') for i in range(8)])"
   ]
  },
  {
   "cell_type": "markdown",
   "id": "c7a83337",
   "metadata": {},
   "source": [
    "## Diff\n",
    "\n",
    "Given an array of dates, find the differences (in days) between each date and the first date in days."
   ]
  },
  {
   "cell_type": "code",
   "execution_count": null,
   "id": "567eec58",
   "metadata": {},
   "outputs": [],
   "source": [
    "dates = np.array(['2023-08-14', '2023-08-17', '2023-08-20', '2025-10-10'], dtype='datetime64')"
   ]
  },
  {
   "cell_type": "code",
   "execution_count": 27,
   "id": "804df0f1",
   "metadata": {},
   "outputs": [
    {
     "data": {
      "text/plain": [
       "array([3, 6], dtype='timedelta64[D]')"
      ]
     },
     "execution_count": 27,
     "metadata": {},
     "output_type": "execute_result"
    }
   ],
   "source": [
    "dates[1:] - dates[0]"
   ]
  },
  {
   "cell_type": "markdown",
   "id": "495d10e0",
   "metadata": {},
   "source": [
    "## Closest\n",
    "\n",
    "Define a function `closest(v, n)` that, given a vector and a number $N$, returns the element closest to $N$. In case of a tie return any of those elements."
   ]
  },
  {
   "cell_type": "code",
   "execution_count": 19,
   "id": "c8d9024d",
   "metadata": {},
   "outputs": [],
   "source": [
    "def closest(v, n):\n",
    "    v = np.array(v)\n",
    "    idx = np.abs(v - n).argmin()\n",
    "    return v[idx]"
   ]
  },
  {
   "cell_type": "code",
   "execution_count": 50,
   "id": "4f913e8c",
   "metadata": {},
   "outputs": [
    {
     "data": {
      "text/plain": [
       "4"
      ]
     },
     "execution_count": 50,
     "metadata": {},
     "output_type": "execute_result"
    }
   ],
   "source": [
    "closest([1, 2, 3, 4], 5)"
   ]
  },
  {
   "cell_type": "code",
   "execution_count": 51,
   "id": "f40c7e1a",
   "metadata": {},
   "outputs": [
    {
     "data": {
      "text/plain": [
       "2"
      ]
     },
     "execution_count": 51,
     "metadata": {},
     "output_type": "execute_result"
    }
   ],
   "source": [
    "closest([1, 2, 3, 4], 2)"
   ]
  },
  {
   "cell_type": "code",
   "execution_count": 23,
   "id": "34b76d75",
   "metadata": {},
   "outputs": [
    {
     "data": {
      "text/plain": [
       "3"
      ]
     },
     "execution_count": 23,
     "metadata": {},
     "output_type": "execute_result"
    }
   ],
   "source": [
    "closest([1, 2, 2, 3, 4], 2.6)"
   ]
  },
  {
   "cell_type": "code",
   "execution_count": 25,
   "id": "5f4b4985",
   "metadata": {},
   "outputs": [],
   "source": [
    "assert closest([1, 2, 3, 4], 2) == 2\n",
    "assert closest([1, 2, 3, 4], 5) == 4\n",
    "assert closest([1, 2, 3, 4], -3) == 1\n",
    "assert closest([1, 2, 2, 3, 4], 2) == 2\n",
    "assert closest([1, 2, 2, 3, 4], 2.4) == 2\n",
    "assert closest([1, 2, 2, 3, 4], 2.6) == 3"
   ]
  },
  {
   "cell_type": "markdown",
   "id": "ccf043af",
   "metadata": {},
   "source": [
    "## N-Greater\n",
    "\n",
    "Define a function that, given a positive number $N$ and a vector, returns the $N$ greater elements from the vector. You can assume $N$ is lower than the length of the vector."
   ]
  },
  {
   "cell_type": "code",
   "execution_count": 57,
   "id": "7101580b",
   "metadata": {},
   "outputs": [],
   "source": [
    "def greater(v, n):\n",
    "    v = np.array(v)\n",
    "    v.sort()\n",
    "    return v[::-1][:n]"
   ]
  },
  {
   "cell_type": "code",
   "execution_count": 58,
   "id": "03da67b7",
   "metadata": {},
   "outputs": [
    {
     "data": {
      "text/plain": [
       "array([9, 7])"
      ]
     },
     "execution_count": 58,
     "metadata": {},
     "output_type": "execute_result"
    }
   ],
   "source": [
    "greater([3, 7, 9, 3, 5], 2)"
   ]
  },
  {
   "cell_type": "markdown",
   "id": "060038d9",
   "metadata": {},
   "source": [
    "## Unique\n",
    "\n",
    "Create a random vector of length 20 with values between 1 and 8. Which unique elements (without repetition) where created?"
   ]
  },
  {
   "cell_type": "code",
   "execution_count": 59,
   "id": "bbb7a1de",
   "metadata": {},
   "outputs": [
    {
     "data": {
      "text/plain": [
       "array([1, 2, 3, 4, 5, 6])"
      ]
     },
     "execution_count": 59,
     "metadata": {},
     "output_type": "execute_result"
    }
   ],
   "source": [
    "v = np.random.randint(1, 8, 20)\n",
    "np.unique(v)"
   ]
  },
  {
   "cell_type": "markdown",
   "id": "e99656aa",
   "metadata": {},
   "source": [
    "## NaN\n",
    "\n",
    "What will be the result of the following statements?\n",
    "\n",
    "First try to understand the concepts of `np.nan`, `np.inf` and `set`. Next, try to mentally solve the statements by using your logic. Finally, test if your expected results are correct. \n",
    "\n",
    "```python\n",
    "0 * np.nan\n",
    "np.nan == np.nan\n",
    "np.inf > np.nan\n",
    "np.nan - np.nan\n",
    "np.nan in set([np.nan])\n",
    "```"
   ]
  },
  {
   "cell_type": "code",
   "execution_count": null,
   "id": "ee474b70",
   "metadata": {},
   "outputs": [],
   "source": []
  },
  {
   "cell_type": "markdown",
   "id": "547e3d90",
   "metadata": {},
   "source": [
    "## Highest Mean\n",
    "\n",
    "Given a 10x10 matrix of random values between 0 and 1, find and print the row with the highest mean value."
   ]
  },
  {
   "cell_type": "code",
   "execution_count": 29,
   "id": "d8bcf0ed",
   "metadata": {},
   "outputs": [
    {
     "data": {
      "text/plain": [
       "array([0.88357048, 0.86021135, 0.86918851, 0.3697665 , 0.52902631,\n",
       "       0.90608512, 0.29074085, 0.66909895, 0.51804262, 0.71613131])"
      ]
     },
     "execution_count": 29,
     "metadata": {},
     "output_type": "execute_result"
    }
   ],
   "source": [
    "matrix = np.random.rand(10, 10)\n",
    "mean_values = matrix.mean(axis=1)\n",
    "matrix[np.argmax(mean_values)]"
   ]
  },
  {
   "cell_type": "markdown",
   "id": "177ae4d1",
   "metadata": {},
   "source": [
    "# Python vs Numpy\n",
    "\n",
    " For each one of the following exercises implement the functions using only Python, without any external libraries. Then compare the execution time with the `%%timeit` magic command (see the first example)."
   ]
  },
  {
   "cell_type": "markdown",
   "id": "150bc812",
   "metadata": {},
   "source": [
    "## Maximum\n",
    "\n",
    "Write a function in Python that finds the maximum value of a list of numbers. Code it yourself, do not use the Python's `max()` function.\n",
    "\n",
    "Create a list of random numbers with 10,000 elements or more.\n",
    "\n",
    "Then test the average time it takes to run each of the `max` functions with the list (using the `%%timeit` magic command):\n",
    "- Your custom `max` function.\n",
    "- Python's built-in `max()` function.\n",
    "- Numpy's `max()` function."
   ]
  },
  {
   "cell_type": "code",
   "execution_count": 1,
   "id": "c49ca677",
   "metadata": {},
   "outputs": [],
   "source": [
    "def my_max(l):\n",
    "    # Find the maximum of a list of numbers\n",
    "    mx = l[0]\n",
    "    for e in l[1:]:\n",
    "        if e > mx:\n",
    "            mx = e\n",
    "    return mx"
   ]
  },
  {
   "cell_type": "code",
   "execution_count": 2,
   "id": "db996f68",
   "metadata": {},
   "outputs": [],
   "source": [
    "tmp = np.random.randint(10, size=10000)"
   ]
  },
  {
   "cell_type": "code",
   "execution_count": 5,
   "id": "23c76960",
   "metadata": {},
   "outputs": [
    {
     "name": "stdout",
     "output_type": "stream",
     "text": [
      "594 µs ± 6.11 µs per loop (mean ± std. dev. of 7 runs, 1,000 loops each)\n"
     ]
    }
   ],
   "source": [
    "%%timeit\n",
    "\n",
    "# My max\n",
    "my_max(tmp)"
   ]
  },
  {
   "cell_type": "code",
   "execution_count": 7,
   "id": "950e9fa2",
   "metadata": {},
   "outputs": [
    {
     "name": "stdout",
     "output_type": "stream",
     "text": [
      "455 µs ± 4.74 µs per loop (mean ± std. dev. of 7 runs, 1,000 loops each)\n"
     ]
    }
   ],
   "source": [
    "%%timeit\n",
    "\n",
    "# Python's max\n",
    "max(tmp)"
   ]
  },
  {
   "cell_type": "code",
   "execution_count": 6,
   "id": "aa3bbc0a",
   "metadata": {},
   "outputs": [
    {
     "name": "stdout",
     "output_type": "stream",
     "text": [
      "8.1 µs ± 31.8 ns per loop (mean ± std. dev. of 7 runs, 100,000 loops each)\n"
     ]
    }
   ],
   "source": [
    "%%timeit\n",
    "\n",
    "# Numpy's max\n",
    "np.max(tmp)"
   ]
  },
  {
   "cell_type": "markdown",
   "id": "9cfeaaa5",
   "metadata": {},
   "source": [
    "## Mean\n",
    "\n",
    "Write a function in Python that finds the average value of a list of numbers. Code it yourself, do not use Numpy's `mean()` function.\n",
    "\n",
    "Create a list of random numbers with 10,000 elements or more.\n",
    "\n",
    "Then test the average time it takes to run each of the `mean` functions with the list (using the `%%timeit` magic command):\n",
    "- Your custom `mean` function.\n",
    "- Numpy's `mean()` function."
   ]
  },
  {
   "cell_type": "code",
   "execution_count": 1,
   "id": "7248d998",
   "metadata": {},
   "outputs": [],
   "source": [
    "def mean1(v):\n",
    "    sum_ = 0\n",
    "    count = 0\n",
    "    for e in v:\n",
    "        sum_ += e\n",
    "        count += 1\n",
    "    return sum_ / count"
   ]
  },
  {
   "cell_type": "code",
   "execution_count": 2,
   "id": "4df828b0",
   "metadata": {},
   "outputs": [],
   "source": [
    "def mean2(v):\n",
    "    return sum(v) / len(v)"
   ]
  },
  {
   "cell_type": "code",
   "execution_count": null,
   "id": "a0989aa9",
   "metadata": {},
   "outputs": [],
   "source": [
    "tmp = np.random.randint(10, size=10000)"
   ]
  },
  {
   "cell_type": "code",
   "execution_count": 6,
   "id": "b16255f9",
   "metadata": {},
   "outputs": [
    {
     "name": "stdout",
     "output_type": "stream",
     "text": [
      "1.2 ms ± 137 µs per loop (mean ± std. dev. of 7 runs, 1,000 loops each)\n"
     ]
    }
   ],
   "source": [
    "%%timeit\n",
    "\n",
    "mean1(tmp)"
   ]
  },
  {
   "cell_type": "code",
   "execution_count": 7,
   "id": "8789a169",
   "metadata": {},
   "outputs": [
    {
     "name": "stdout",
     "output_type": "stream",
     "text": [
      "753 µs ± 21.8 µs per loop (mean ± std. dev. of 7 runs, 1,000 loops each)\n"
     ]
    }
   ],
   "source": [
    "%%timeit\n",
    "\n",
    "mean2(tmp)"
   ]
  },
  {
   "cell_type": "code",
   "execution_count": 8,
   "id": "b401901d",
   "metadata": {},
   "outputs": [
    {
     "name": "stdout",
     "output_type": "stream",
     "text": [
      "15.3 µs ± 340 ns per loop (mean ± std. dev. of 7 runs, 100,000 loops each)\n"
     ]
    }
   ],
   "source": [
    "%%timeit\n",
    "\n",
    "np.mean(tmp)"
   ]
  },
  {
   "cell_type": "markdown",
   "id": "bcf4d6c8",
   "metadata": {},
   "source": [
    "##  One-hot Encoding\n",
    "\n",
    "Implement a function that returns a matrix with the one-hot encoding of a vector.\n",
    "\n",
    "One-hot encoding: https://www.datacamp.com/tutorial/one-hot-encoding-python-tutorial\n",
    "\n",
    "- Example: \n",
    "    - Input: [0, 2, 1, 2, 0, 1]\n",
    "    - Output:\n",
    "```\n",
    "[[1., 0., 0.],\n",
    "[0., 0., 1.],\n",
    "[0., 1., 0.],\n",
    "[0., 0., 1.],\n",
    "[1., 0., 0.],\n",
    "[0., 1., 0.]]\n",
    "```"
   ]
  },
  {
   "cell_type": "code",
   "execution_count": 62,
   "id": "351516c7",
   "metadata": {},
   "outputs": [],
   "source": [
    "def one_hot_encode(vector):\n",
    "    # Identify the number of unique classes\n",
    "    n_classes = np.unique(vector).shape[0]\n",
    "    # Initialize an array of zeros with shape (length of vector, number of classes)\n",
    "    one_hot = np.zeros((vector.shape[0], n_classes))\n",
    "    # For each item in the vector, set the corresponding class index to 1\n",
    "    for i, value in enumerate(vector):\n",
    "        one_hot[i, value] = 1\n",
    "    return one_hot"
   ]
  },
  {
   "cell_type": "code",
   "execution_count": 63,
   "id": "43ea0043",
   "metadata": {},
   "outputs": [
    {
     "data": {
      "text/plain": [
       "array([[1., 0., 0.],\n",
       "       [0., 0., 1.],\n",
       "       [0., 1., 0.],\n",
       "       [0., 0., 1.],\n",
       "       [1., 0., 0.],\n",
       "       [0., 1., 0.]])"
      ]
     },
     "execution_count": 63,
     "metadata": {},
     "output_type": "execute_result"
    }
   ],
   "source": [
    "vector = np.array([0, 2, 1, 2, 0, 1])\n",
    "one_hot_encode(vector)"
   ]
  },
  {
   "cell_type": "markdown",
   "id": "bf103599",
   "metadata": {},
   "source": [
    "## Min-Max Scaling\n",
    "\n",
    "Implement a function `minmax_scale(values)` that rescales a list (or NumPy array) of numeric values so that all values fall within the range **[0, 1]**. Specifically, the smallest number will have the value of $0$, while the largest one will have the value of $1$. The rest of the numbers will fall in between.\n",
    "\n",
    "This kind of normalization is common in machine learning, ensuring that all features contribute equally to a model’s training process, regardless of their original scale.\n",
    "\n",
    "Given an array of values $X$, the formula for Min-Max scaling for each one of its values $x_i$ is:\n",
    "\n",
    "$x_i\\_scaled = (x_i - min(X)) / (max(X) - min(X))$\n",
    "\n"
   ]
  },
  {
   "cell_type": "code",
   "execution_count": 9,
   "id": "b39905ca",
   "metadata": {},
   "outputs": [
    {
     "data": {
      "text/plain": [
       "array([0.  , 0.25, 0.5 , 1.  ])"
      ]
     },
     "execution_count": 9,
     "metadata": {},
     "output_type": "execute_result"
    }
   ],
   "source": [
    "x = np.array([10, 15, 20, 30])\n",
    "x_min = x.min()\n",
    "x_scaled = (x - x_min) / (x.max() - x_min)\n",
    "x_scaled"
   ]
  },
  {
   "cell_type": "markdown",
   "id": "7a98ca69",
   "metadata": {},
   "source": [
    "## Fruit Ninja\n",
    "\n",
    "You are a Fruit Ninja master, slicing fruits with precision. You have sliced 100 fruits, each giving you a random score between 1 and 100. However, due to a ninja technique, every third score is doubled. Calculate your total score."
   ]
  },
  {
   "cell_type": "code",
   "execution_count": 34,
   "id": "016eca9a",
   "metadata": {},
   "outputs": [
    {
     "data": {
      "text/plain": [
       "6458"
      ]
     },
     "execution_count": 34,
     "metadata": {},
     "output_type": "execute_result"
    }
   ],
   "source": [
    "scores = np.random.randint(1, 101, 100)\n",
    "scores[::3] *= 2\n",
    "np.sum(scores)"
   ]
  },
  {
   "cell_type": "markdown",
   "id": "7b937b83",
   "metadata": {},
   "source": [
    "## Time Traveler\n",
    "\n",
    "A historian time traveler wants to study major events in the past century. Create an array of dates starting from 1923-08-14 to 2023-08-14 in 10-year increments, then randomly select 3 dates to travel to."
   ]
  },
  {
   "cell_type": "code",
   "execution_count": 39,
   "id": "1ac9d3c2",
   "metadata": {},
   "outputs": [
    {
     "data": {
      "text/plain": [
       "array(['1950-01-01', '1920-01-01', '2010-01-01'], dtype='datetime64[D]')"
      ]
     },
     "execution_count": 39,
     "metadata": {},
     "output_type": "execute_result"
    }
   ],
   "source": [
    "dates = np.arange('1923-08-14', '2023-08-14', dtype='datetime64[10Y]')\n",
    "# To ensure the dates, not just years\n",
    "dates = dates.astype('datetime64[D]')\n",
    "np.random.choice(dates, 3, replace=False)"
   ]
  },
  {
   "cell_type": "markdown",
   "id": "3083b179",
   "metadata": {},
   "source": [
    "## Aliens\n",
    "\n",
    "Aliens are transmitting binary messages — arrays of 100 elements containing only 0s and 1s.\n",
    "\n",
    "However, their real message is hidden inside the signal: it always starts and ends with 1, and everything else before the first 1 and after the last 1 is just noise.\n",
    "\n",
    "For example, given the message `[0, 0, 0, 1, 0, 1, 1, 0, 0, 1, 0, 0]`, the real message you have to extract is the range from the first 1 until the last one, both included `[1, 0, 1, 1, 0, 0, 1]`."
   ]
  },
  {
   "cell_type": "code",
   "execution_count": 10,
   "id": "2376bea8",
   "metadata": {},
   "outputs": [],
   "source": [
    "# Function that generates a random alien message\n",
    "\n",
    "def get_aliens_message():\n",
    "    # Creating a message where majority is zeros\n",
    "    message = np.zeros(100, dtype=int)\n",
    "\n",
    "    # Introducing the real message\n",
    "    start_index = np.random.randint(10, 40)\n",
    "    end_index = np.random.randint(60, 90)\n",
    "\n",
    "    message[start_index:end_index] = np.random.randint(2, size=end_index-start_index)\n",
    "    message[start_index] = 1\n",
    "    message[end_index] = 1\n",
    "    return message"
   ]
  },
  {
   "cell_type": "code",
   "execution_count": null,
   "id": "a233b00f",
   "metadata": {},
   "outputs": [],
   "source": [
    "message = get_aliens_message()"
   ]
  },
  {
   "cell_type": "code",
   "execution_count": 48,
   "id": "f0a47ba4",
   "metadata": {},
   "outputs": [
    {
     "data": {
      "text/plain": [
       "array([1, 1, 0, 1, 0, 1, 1, 1, 1, 0, 0, 0, 0, 0, 1, 1, 0, 0, 0, 0, 1, 0,\n",
       "       1, 0, 1, 0, 1, 0, 0, 0, 1, 1, 0, 0, 0, 0, 0, 1, 0, 1, 1, 0, 0, 0,\n",
       "       0, 1, 1, 1, 0, 1, 1, 0, 1, 0, 1, 1, 0, 0, 1])"
      ]
     },
     "execution_count": 48,
     "metadata": {},
     "output_type": "execute_result"
    }
   ],
   "source": [
    "# Extract real message\n",
    "start, end = np.where(message == 1)[0][[0, -1]]\n",
    "# Real message\n",
    "message[start:end+1]"
   ]
  },
  {
   "cell_type": "markdown",
   "id": "84e93f70",
   "metadata": {},
   "source": [
    "## Temperature Log\n",
    "\n",
    "Implement the function `detect_temperature_anomalies(values)`.\n",
    "\n",
    "You have a 365-day temperature log for a city, represented as an array of floats. Identify the days where the temperature is at least 2 standard deviations away from the mean."
   ]
  },
  {
   "cell_type": "code",
   "execution_count": null,
   "id": "efa6d12b",
   "metadata": {},
   "outputs": [],
   "source": [
    "def detect_temperature_anomalies(temperatures):\n",
    "    mean_temp = np.mean(temperatures)\n",
    "    anomalies = np.abs(temperatures - mean_temp) > 2 * np.std(temperatures)\n",
    "    return np.where(anomalies)[0]"
   ]
  },
  {
   "cell_type": "code",
   "execution_count": 57,
   "id": "4161bd13",
   "metadata": {},
   "outputs": [
    {
     "data": {
      "text/plain": [
       "array([  6,  37,  81, 110, 146, 156, 161, 187, 192, 233, 263, 275, 318,\n",
       "       336, 361])"
      ]
     },
     "execution_count": 57,
     "metadata": {},
     "output_type": "execute_result"
    }
   ],
   "source": [
    "# Simulated temperatures around 25°C with std deviation 5°C\n",
    "temps = np.random.normal(25, 5, 365)\n",
    "detect_temperature_anomalies(temps)"
   ]
  },
  {
   "cell_type": "markdown",
   "id": "62a87a5b",
   "metadata": {},
   "source": [
    "## Max Pooling\n",
    "\n",
    "In Convolutional Neural Networks (CNNs), used for image processing, there’s a step called max pooling. It helps reduce the size of a matrix (often an image) while keeping only the most important information — the maximum value within small regions.\n",
    "\n",
    "Write a function `max_pooling(matrix)` that performs 2×2 max pooling on a given matrix. That is, for each 2×2 region, take the maximum value and add it to a new matrix. Finally, return the resulting smaller matrix.\n",
    "\n",
    "If the input matrix has dimensions $m · n$, the resulting matrix will have dimensions $(m−1) · (n−1)$.\n",
    "\n",
    "For example, for the input matrix\n",
    "\n",
    "[\n",
    "\n",
    "    [1, 3, 2, 4]\n",
    "\n",
    "    [5, 6, 1, 0]\n",
    "\n",
    "    [2, 8, 3, 1]\n",
    "\n",
    "    [4, 7, 2, 5]\n",
    "],\n",
    "\n",
    "the resulting matrix from the max pooling operation is\n",
    "\n",
    "[\n",
    "   \n",
    "    [6 6 4]\n",
    "\n",
    "    [8 8 3]\n",
    "\n",
    "    [8 8 5]\n",
    "]\n",
    "\n",
    "**Explanation**:\n",
    "- The function slides a 2×2 window one step at a time.\n",
    "- For the top-left region of 2×2 that contains the values 1, 3, 5 and 6, the maximum value is 6. This gives the first value in the top-left of the returned matrix.\n",
    "- These repeats across the entire matrix for each 2×2 region."
   ]
  },
  {
   "cell_type": "code",
   "execution_count": 22,
   "id": "4969c672",
   "metadata": {},
   "outputs": [],
   "source": [
    "matrix = np.array([\n",
    "    [1, 3, 2, 4],\n",
    "    [5, 6, 1, 0],\n",
    "    [2, 8, 3, 1],\n",
    "    [4, 7, 2, 5],\n",
    "])"
   ]
  },
  {
   "cell_type": "code",
   "execution_count": 23,
   "id": "dab7032c",
   "metadata": {},
   "outputs": [
    {
     "data": {
      "text/plain": [
       "array([[6., 6., 4.],\n",
       "       [8., 8., 3.],\n",
       "       [8., 8., 5.]])"
      ]
     },
     "execution_count": 23,
     "metadata": {},
     "output_type": "execute_result"
    }
   ],
   "source": [
    "def max_pooling(matrix):\n",
    "    pool = np.empty(shape=(matrix.shape[0]-1, matrix.shape[1]-1))\n",
    "    for i in range(0, len(matrix)-1):\n",
    "        for j in range(0, len(matrix[0])-1):\n",
    "            submat = matrix[i:i+2, j:j+2]\n",
    "            pool[i, j] = submat.max()\n",
    "    return np.array(pool)\n",
    "\n",
    "max_pooling(matrix)"
   ]
  },
  {
   "cell_type": "markdown",
   "id": "d71ac435",
   "metadata": {},
   "source": [
    "## The Game of Life\n",
    "\n",
    "Implement \"The Game of Life\" using Numpy."
   ]
  },
  {
   "cell_type": "code",
   "execution_count": 26,
   "id": "78d0ab45",
   "metadata": {},
   "outputs": [],
   "source": [
    "# Author: Nicolas Rougier\n",
    "\n",
    "def iterate(Z):\n",
    "    # Count neighbours\n",
    "    N = (Z[0:-2,0:-2] + Z[0:-2,1:-1] + Z[0:-2,2:] +\n",
    "         Z[1:-1,0:-2]                + Z[1:-1,2:] +\n",
    "         Z[2:  ,0:-2] + Z[2:  ,1:-1] + Z[2:  ,2:])\n",
    "\n",
    "    # Apply rules\n",
    "    birth = (N==3) & (Z[1:-1,1:-1]==0)\n",
    "    survive = ((N==2) | (N==3)) & (Z[1:-1,1:-1]==1)\n",
    "    Z[...] = 0\n",
    "    Z[1:-1,1:-1][birth | survive] = 1\n",
    "    return Z"
   ]
  },
  {
   "cell_type": "code",
   "execution_count": 27,
   "id": "24dce1f7",
   "metadata": {},
   "outputs": [
    {
     "name": "stdout",
     "output_type": "stream",
     "text": [
      "[[0 0 0 0 0 0 0 0 0 0]\n",
      " [0 1 0 1 1 0 1 1 1 0]\n",
      " [0 1 0 1 1 0 1 1 0 0]\n",
      " [0 1 0 0 0 0 0 0 1 0]\n",
      " [0 1 1 1 1 0 1 0 1 0]\n",
      " [0 0 0 0 0 0 1 0 1 0]\n",
      " [0 1 1 1 1 1 0 0 0 0]\n",
      " [0 0 0 1 1 1 1 0 0 0]\n",
      " [0 0 0 0 0 0 0 0 0 0]\n",
      " [0 0 0 0 0 0 0 0 0 0]]\n",
      "\n",
      "[[0 0 0 0 0 0 0 0 0 0]\n",
      " [0 0 0 1 1 0 1 0 1 0]\n",
      " [0 1 0 1 1 0 1 0 0 0]\n",
      " [0 1 0 0 0 0 1 0 1 0]\n",
      " [0 1 1 1 0 1 0 0 1 0]\n",
      " [0 0 0 0 0 0 1 0 0 0]\n",
      " [0 0 1 0 0 0 0 1 0 0]\n",
      " [0 0 0 0 0 0 1 0 0 0]\n",
      " [0 0 0 0 1 1 0 0 0 0]\n",
      " [0 0 0 0 0 0 0 0 0 0]]\n",
      "\n",
      "[[0 0 0 0 0 0 0 0 0 0]\n",
      " [0 0 1 1 1 0 0 1 0 0]\n",
      " [0 0 0 1 1 0 1 0 0 0]\n",
      " [0 1 0 0 0 0 1 0 0 0]\n",
      " [0 1 1 0 0 1 1 0 0 0]\n",
      " [0 1 0 1 0 0 1 1 0 0]\n",
      " [0 0 0 0 0 0 1 1 0 0]\n",
      " [0 0 0 0 0 1 1 0 0 0]\n",
      " [0 0 0 0 0 1 0 0 0 0]\n",
      " [0 0 0 0 0 0 0 0 0 0]]\n",
      "\n",
      "[[0 0 0 0 0 0 0 0 0 0]\n",
      " [0 0 1 0 1 1 0 0 0 0]\n",
      " [0 0 0 0 1 0 1 1 0 0]\n",
      " [0 1 0 1 1 0 1 1 0 0]\n",
      " [0 1 0 0 0 1 0 0 0 0]\n",
      " [0 1 0 0 0 0 0 0 0 0]\n",
      " [0 0 0 0 0 0 0 0 0 0]\n",
      " [0 0 0 0 0 1 0 1 0 0]\n",
      " [0 0 0 0 0 1 1 0 0 0]\n",
      " [0 0 0 0 0 0 0 0 0 0]]\n",
      "\n",
      "[[0 0 0 0 0 0 0 0 0 0]\n",
      " [0 0 0 1 1 1 1 0 0 0]\n",
      " [0 0 1 0 0 0 0 1 0 0]\n",
      " [0 0 1 1 1 0 0 1 0 0]\n",
      " [0 1 0 0 1 1 1 0 0 0]\n",
      " [0 0 0 0 0 0 0 0 0 0]\n",
      " [0 0 0 0 0 0 0 0 0 0]\n",
      " [0 0 0 0 0 1 0 0 0 0]\n",
      " [0 0 0 0 0 1 1 0 0 0]\n",
      " [0 0 0 0 0 0 0 0 0 0]]\n",
      "\n",
      "[[0 0 0 0 0 0 0 0 0 0]\n",
      " [0 0 0 1 1 1 1 0 0 0]\n",
      " [0 0 1 0 0 0 0 1 0 0]\n",
      " [0 1 1 0 1 0 0 1 0 0]\n",
      " [0 0 1 0 1 1 1 0 0 0]\n",
      " [0 0 0 0 0 1 0 0 0 0]\n",
      " [0 0 0 0 0 0 0 0 0 0]\n",
      " [0 0 0 0 0 1 1 0 0 0]\n",
      " [0 0 0 0 0 1 1 0 0 0]\n",
      " [0 0 0 0 0 0 0 0 0 0]]\n",
      "\n",
      "[[0 0 0 0 0 0 0 0 0 0]\n",
      " [0 0 0 1 1 1 1 0 0 0]\n",
      " [0 1 1 0 0 0 0 1 0 0]\n",
      " [0 1 1 0 1 0 0 1 0 0]\n",
      " [0 1 1 0 1 0 1 0 0 0]\n",
      " [0 0 0 0 1 1 1 0 0 0]\n",
      " [0 0 0 0 0 1 1 0 0 0]\n",
      " [0 0 0 0 0 1 1 0 0 0]\n",
      " [0 0 0 0 0 1 1 0 0 0]\n",
      " [0 0 0 0 0 0 0 0 0 0]]\n",
      "\n",
      "[[0 0 0 0 0 0 0 0 0 0]\n",
      " [0 0 1 1 1 1 1 0 0 0]\n",
      " [0 1 0 0 0 0 0 1 0 0]\n",
      " [0 0 0 0 0 1 1 1 0 0]\n",
      " [0 1 1 0 1 0 1 1 0 0]\n",
      " [0 0 0 1 1 0 0 1 0 0]\n",
      " [0 0 0 0 0 0 0 1 0 0]\n",
      " [0 0 0 0 1 0 0 1 0 0]\n",
      " [0 0 0 0 0 1 1 0 0 0]\n",
      " [0 0 0 0 0 0 0 0 0 0]]\n",
      "\n",
      "[[0 0 0 0 0 0 0 0 0 0]\n",
      " [0 0 1 1 1 1 1 0 0 0]\n",
      " [0 0 1 1 0 0 0 1 0 0]\n",
      " [0 1 1 0 0 1 0 0 1 0]\n",
      " [0 0 1 0 1 0 0 0 1 0]\n",
      " [0 0 1 1 1 1 0 1 1 0]\n",
      " [0 0 0 1 1 0 1 1 1 0]\n",
      " [0 0 0 0 0 1 0 1 0 0]\n",
      " [0 0 0 0 0 1 1 0 0 0]\n",
      " [0 0 0 0 0 0 0 0 0 0]]\n",
      "\n",
      "[[0 0 0 0 0 0 0 0 0 0]\n",
      " [0 0 1 0 1 1 1 0 0 0]\n",
      " [0 0 0 0 0 0 0 1 0 0]\n",
      " [0 1 0 0 1 0 0 1 1 0]\n",
      " [0 0 0 0 0 0 1 0 1 0]\n",
      " [0 0 1 0 0 0 0 0 0 0]\n",
      " [0 0 1 0 0 0 0 0 0 0]\n",
      " [0 0 0 0 0 0 0 0 1 0]\n",
      " [0 0 0 0 0 1 1 0 0 0]\n",
      " [0 0 0 0 0 0 0 0 0 0]]\n",
      "\n"
     ]
    }
   ],
   "source": [
    "Z = np.random.randint(0, 2, (10,10))\n",
    "for i in range(10):\n",
    "    Z = iterate(Z)\n",
    "    print(Z)\n",
    "    print()"
   ]
  }
 ],
 "metadata": {
  "kernelspec": {
   "display_name": "base",
   "language": "python",
   "name": "python3"
  },
  "language_info": {
   "codemirror_mode": {
    "name": "ipython",
    "version": 3
   },
   "file_extension": ".py",
   "mimetype": "text/x-python",
   "name": "python",
   "nbconvert_exporter": "python",
   "pygments_lexer": "ipython3",
   "version": "3.13.5"
  },
  "toc": {
   "base_numbering": 1,
   "nav_menu": {},
   "number_sections": true,
   "sideBar": true,
   "skip_h1_title": false,
   "title_cell": "Table of Contents",
   "title_sidebar": "Contents",
   "toc_cell": false,
   "toc_position": {
    "height": "calc(100% - 180px)",
    "left": "10px",
    "top": "150px",
    "width": "329px"
   },
   "toc_section_display": true,
   "toc_window_display": true
  },
  "varInspector": {
   "cols": {
    "lenName": 16,
    "lenType": 16,
    "lenVar": 40
   },
   "kernels_config": {
    "python": {
     "delete_cmd_postfix": "",
     "delete_cmd_prefix": "del ",
     "library": "var_list.py",
     "varRefreshCmd": "print(var_dic_list())"
    },
    "r": {
     "delete_cmd_postfix": ") ",
     "delete_cmd_prefix": "rm(",
     "library": "var_list.r",
     "varRefreshCmd": "cat(var_dic_list()) "
    }
   },
   "types_to_exclude": [
    "module",
    "function",
    "builtin_function_or_method",
    "instance",
    "_Feature"
   ],
   "window_display": false
  }
 },
 "nbformat": 4,
 "nbformat_minor": 5
}
