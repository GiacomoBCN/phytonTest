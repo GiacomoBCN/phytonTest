{
 "cells": [
  {
   "cell_type": "markdown",
   "id": "aee9a2c9",
   "metadata": {},
   "source": [
    "# Python Exercises\n",
    "\n",
    "Python cheatsheet: https://quickref.me/python.html\n",
    "\n",
    "Feel free to use any Python function from the built-in functions or typical Python libraries when you consider itappropriate. It is important to not repeat code that is already implemented."
   ]
  },
  {
   "cell_type": "markdown",
   "id": "d1e47a49",
   "metadata": {},
   "source": [
    "## Dual Sorting Criterion\n",
    "\n",
    "Given a list of (tuple) pairs:\n",
    "1. Sort them based on the first element of the pair\n",
    "    - Example: `[(2, 3), (9, 5), (7, 2)]` → `[(2, 3), (7, 2), (9, 5)]`\n",
    "2. Sort them based on the second element of the pair.\n",
    "    - Example: `[(2, 3), (9, 5), (7, 2)]` → `[(7, 2), (2, 3), (9, 5)]`"
   ]
  },
  {
   "cell_type": "code",
   "execution_count": null,
   "id": "d7292edf",
   "metadata": {},
   "outputs": [
    {
     "data": {
      "text/plain": [
       "[(2, 3), (7, 2), (9, 5)]"
      ]
     },
     "execution_count": 23,
     "metadata": {},
     "output_type": "execute_result"
    }
   ],
   "source": [
    "lst = [(2, 3), (9, 5), (7, 2)]\n",
    "lst.sort(key=lambda x:x[0])\n",
    "lst\n"
   ]
  },
  {
   "cell_type": "markdown",
   "id": "f6f8796f",
   "metadata": {},
   "source": [
    "## Dictionary for Counting Repetitions\n",
    "\n",
    "Given a list containing repetitions, create a dictionary where keys are unique elements from the list, and the values represent the repetition counts.\n",
    "\n",
    "Example:\n",
    "    `[1, 2, 2, 2, 3, 3]` → `{1: 1, 2: 3, 3: 2}`"
   ]
  },
  {
   "cell_type": "code",
   "execution_count": 27,
   "id": "e342d217",
   "metadata": {},
   "outputs": [
    {
     "name": "stdout",
     "output_type": "stream",
     "text": [
      "{1: 1, 2: 3, 3: 2}\n",
      "{1: 1, 2: 3, 3: 2}\n"
     ]
    }
   ],
   "source": [
    "from collections import Counter\n",
    "\n",
    "\n",
    "\n",
    "lst = [1, 2, 2, 2, 3, 3]\n",
    "\n",
    "cont_dict = {}\n",
    "for num in lst: \n",
    "    if num in cont_dict: \n",
    "        cont_dict[num] +=1\n",
    "    else:\n",
    "       cont_dict[num] =1\n",
    "\n",
    "print (cont_dict) \n",
    "\n",
    "\n",
    "lib_with_cont = dict(Counter(lst))\n",
    "\n",
    "print (lib_with_cont)"
   ]
  },
  {
   "cell_type": "markdown",
   "id": "aa16caf7",
   "metadata": {},
   "source": [
    "## Anagrams\n",
    "\n",
    "Write a function that returns `True` if two given words are anagrams, and `False` otherwise.\n",
    "\n",
    "An anagram is when two words contain exactly the same characters in the same frequency, but potentially in a different order. For example, `\"act\"` and `\"tac\"` are anagrams because both words use the characters `'a'`, `'c'`, and `'t'`."
   ]
  },
  {
   "cell_type": "code",
   "execution_count": 12,
   "id": "ea628287",
   "metadata": {},
   "outputs": [
    {
     "name": "stdout",
     "output_type": "stream",
     "text": [
      "tac cat - True\n",
      "tac cook - False\n",
      "tac come - False\n",
      "tac book  - False\n",
      "cat cook - False\n",
      "cat come - False\n",
      "cat book  - False\n",
      "cook come - False\n",
      "cook book  - False\n",
      "come book  - False\n"
     ]
    }
   ],
   "source": [
    "parole= [\"tac\", \"cat\", \"cook\", \"come\", \"book \"]\n",
    "\n",
    "def is_anag (parola1, parola2): \n",
    "    parola1_sorted = sorted(parola1.strip())\n",
    "    parola2_sorted = sorted(parola2.strip())\n",
    "    \n",
    "    return parola1_sorted == parola2_sorted\n",
    "\n",
    "is_anag(\"tac\", \"cat\")\n",
    "\n",
    "for parolaA in range(len(parole)): \n",
    "    for parolaB in range(parolaA + 1, len(parole)):\n",
    "        print(parole[parolaA], parole[parolaB], \"-\", is_anag(parole[parolaA], parole[parolaB]))\n",
    "\n",
    "\n",
    "     "
   ]
  },
  {
   "cell_type": "markdown",
   "id": "fe59251c",
   "metadata": {},
   "source": [
    "## Save a List to a File\n",
    "\n",
    "Given a list of words, create a text file in your computer that contains the words from the list, in the same order, with one word per line."
   ]
  },
  {
   "cell_type": "code",
   "execution_count": 13,
   "id": "9283eaf3",
   "metadata": {},
   "outputs": [],
   "source": [
    "words = [\"banana\", \"apple\", \"cherry\"]\n",
    "file = open(\"words.txt\", \"w\")\n",
    "for word in words:\n",
    "  file.write(word + \"\\n\")\n",
    "file.close()\n",
    "  "
   ]
  },
  {
   "cell_type": "markdown",
   "id": "1af0a611",
   "metadata": {},
   "source": [
    "## Read a List from a File\n",
    "\n",
    "Given a text file containing a word on each line (like the one in the previous exercise), read it and store the words in a list in the same order."
   ]
  },
  {
   "cell_type": "code",
   "execution_count": null,
   "id": "9e0d1513",
   "metadata": {},
   "outputs": [],
   "source": []
  },
  {
   "cell_type": "markdown",
   "id": "e4e0d8b1",
   "metadata": {},
   "source": [
    "## Combinatorial Numbers\n",
    "\n",
    "Implement a function that calculates binomial coefficients (also known as elements of Pascal's Triangle) up to a depth of $N$. Print them in a \"triangle format\".\n",
    "\n",
    "The binomial coefficient is defined mathematically as:\n",
    "\n",
    "$\\frac{n!}{k!(n−k)!}$\n",
    "\n",
    "Where $n!$ is the factorial of $n$.\n",
    "\n",
    "For Pascal’s Triangle, the structure starts with 1 at the top, and every row $n$ contains the binomial coefficients for that row, iterating over $k$ from $0$ to $n$ for computing the elements of the row:\n",
    "\n",
    "```\n",
    "      1       <- Row 0: 1 element (n=0, k=0)\n",
    "     1 1      <- Row 1: 2 elements (n=1, k=0,1)\n",
    "    1 2 1     <- Row 2: 3 elements (n=2, k=0,1,2)\n",
    "   1 3 3 1    <- Row 3: 4 elements (n=3, k=0,1,2,3)\n",
    "  1 4 6 4 1   <- Row 4: 5 elements (n=4, k=0,1,2,3,4)\n",
    "```\n",
    "\n",
    "Write a function called `pascal(N)` for displaying Pascal's triangle up to a given number depth of $N$, which specifies the number of rows of the triangle.\n",
    "\n",
    "You can use `factorial()` function from `math` module to compute the factorial of a number."
   ]
  },
  {
   "cell_type": "code",
   "execution_count": null,
   "id": "688d74c3",
   "metadata": {},
   "outputs": [],
   "source": []
  },
  {
   "cell_type": "code",
   "execution_count": 20,
   "id": "d415aff3",
   "metadata": {},
   "outputs": [
    {
     "name": "stdout",
     "output_type": "stream",
     "text": [
      "      1 \n",
      "     1 1 \n",
      "    1 2 1 \n",
      "   1 3 3 1 \n",
      "  1 4 6 4 1 \n"
     ]
    }
   ],
   "source": [
    "pascal(5)"
   ]
  },
  {
   "cell_type": "markdown",
   "id": "76f10e7e",
   "metadata": {},
   "source": [
    "## Robot Movement\n",
    "\n",
    "- A robot moves on a plane starting from point (0,0).\n",
    "- The robot can move UP, DOWN, LEFT, and RIGHT.\n",
    "- The robot's movement trail is given as input string like: `UP 5 DOWN 3 LEFT 3 RIGHT 2`, where the numbers after the direction are the number of steps in that direction.\n",
    "\n",
    "Write a program to calculate the Euclidean distance from the current position after a sequence of movements to the original point. The Euclidean distance between two points (x1, y1) and (x2, y2) is defined as:\n",
    "\n",
    "    Euclidean distance = SQRT((x1 - x2)^2 + (y1 - y2)^2),\n",
    "\n",
    "where SQRT is the square root (√).\n",
    "\n",
    "Example: \n",
    "- Input: UP 5 DOWN 3 LEFT 3 RIGHT 2\n",
    "- Output: 2"
   ]
  },
  {
   "cell_type": "code",
   "execution_count": null,
   "id": "ae9ee6df",
   "metadata": {},
   "outputs": [],
   "source": []
  },
  {
   "cell_type": "markdown",
   "id": "545f3c2f",
   "metadata": {},
   "source": [
    "## Color by Proximity — Nearest Neighbors\n",
    "\n",
    "Write a function:\n",
    "\n",
    "`predict_color(points, new_point, k)`\n",
    "\n",
    "that **predicts** the color of a new point in 2D space based on its **k** nearest neighbors.\n",
    "\n",
    "Each point is represented as a tuple `(x, y, color)`, where:\n",
    "\n",
    "- `x` and `y` are coordinates,\n",
    "- `color` is a string (e.g. \"red\", \"blue\", \"green\").\n",
    "\n",
    "The function should:\n",
    "\n",
    "1. Compute the **Euclidean distance** between the new point and each existing point.\n",
    "2. Select the **k points with the smallest distances**.\n",
    "3. Predict (return) the color as the **majority color** among those k neighbors.\n",
    "    - If there’s a tie between two or more colors, you can return any of them.\n",
    "\n",
    "\n",
    "This is a simplified version of a ML algorithm called k-Nearest Neighbors (kNN) that we will see in class."
   ]
  },
  {
   "cell_type": "code",
   "execution_count": 9,
   "id": "015441df",
   "metadata": {},
   "outputs": [],
   "source": [
    "# Example data\n",
    "points = [\n",
    "    (1.5, 1.8, \"red\"),\n",
    "    (2.0, 2.1, \"red\"),\n",
    "    (2.2, 1.9, \"red\"),\n",
    "    (1.8, 2.3, \"red\"),\n",
    "    (2.1, 2.4, \"red\"),\n",
    "    (2.7, 1.8, \"green\"),\n",
    "    (3.0, 2.2, \"green\"),\n",
    "    (3.2, 1.9, \"green\"),\n",
    "    (2.8, 2.4, \"green\"),\n",
    "    (3.1, 2.5, \"green\"),\n",
    "    (3.3, 2.8, \"blue\"),\n",
    "    (3.5, 3.1, \"blue\"),\n",
    "    (3.7, 2.9, \"blue\"),\n",
    "    (3.4, 3.3, \"blue\"),\n",
    "    (3.6, 3.2, \"blue\"),\n",
    "]"
   ]
  },
  {
   "cell_type": "code",
   "execution_count": 21,
   "id": "27b54917",
   "metadata": {},
   "outputs": [],
   "source": [
    "# These are examples only, here we can have any other value\n",
    "new_point = (3, 2.8)\n",
    "k = 5"
   ]
  },
  {
   "cell_type": "code",
   "execution_count": null,
   "id": "f7333eb3",
   "metadata": {},
   "outputs": [],
   "source": [
    "# Write your function here\n",
    "\n"
   ]
  },
  {
   "cell_type": "code",
   "execution_count": null,
   "id": "420558d6",
   "metadata": {},
   "outputs": [
    {
     "name": "stdout",
     "output_type": "stream",
     "text": [
      "Predicted color: green\n"
     ]
    },
    {
     "data": {
      "image/png": "[encoded data removed]",
      "text/plain": [
       "<Figure size 600x600 with 1 Axes>"
      ]
     },
     "metadata": {},
     "output_type": "display_data"
    }
   ],
   "source": [
    "# This code assumes you've implemented the `predict_color` function that returns a color prediction\n",
    "\n",
    "import matplotlib.pyplot as plt\n",
    "\n",
    "predicted_color = predict_color(points, new_point, k)\n",
    "print(\"Predicted color:\", predicted_color)\n",
    "\n",
    "plt.figure(figsize=(6,6))\n",
    "for x, y, color in points:\n",
    "    plt.scatter(x, y, c=color, s=100, label=color if color not in plt.gca().get_legend_handles_labels()[1] else \"\")\n",
    "\n",
    "plt.scatter(new_point[0], new_point[1], c=predicted_color, s=250, edgecolors='black', marker='X', label=\"Prediction\")\n",
    "plt.legend()\n",
    "plt.title(f\"k = {k}, predicted color = {predicted_color}\")\n",
    "plt.xlabel(\"x\")\n",
    "plt.ylabel(\"y\")\n",
    "plt.grid(True)\n",
    "plt.show()"
   ]
  },
  {
   "cell_type": "markdown",
   "id": "7d8696f8",
   "metadata": {},
   "source": [
    "## kNN Bonus\n",
    "\n",
    "Extend the previous **Color by proximity** exercise by implementing the following extras:\n",
    "\n",
    "1. **Distance function**: Add another parameter to the `predict_color()` function called `dist_fn`, which represents the distance function used to calculate how close two points are.\n",
    "\n",
    "    Previously, you \"hardcoded\" the Euclidean distance, but now your function should use whatever distance function is passed as a parameter — so a programmer can choose the distance metric.\n",
    "\n",
    "    For example, try computing distances using the **Manhattan distance**:\n",
    "        `Manhattan distance = |x1 - x2| + |y1 - y2|`\n",
    "\n",
    "2. **Weighted vote**: Instead of a simple majority vote for predicting the color, give **closer neighbors higher influence**. The idea is that nearer points should “count more” toward the final prediction.\n",
    "\n",
    "    You can assign each neighbor a weight inversely proportional to its distance, such as: `weight = 1 / distance`. To handle the case where the distance is 0 (the new point exactly matches an existing one), you can return the color of that point immediately.\n",
    "\n",
    "    Your goal is to sum the weights of the neighbors for each color and predict the color with the largest total weight."
   ]
  },
  {
   "cell_type": "code",
   "execution_count": null,
   "id": "d2ae59ba",
   "metadata": {},
   "outputs": [],
   "source": []
  },
  {
   "cell_type": "markdown",
   "id": "749f796f",
   "metadata": {},
   "source": [
    "## Pig\n",
    "\n",
    "Create a program that simulates the Pig dice game for multiple players. \n",
    "\n",
    "Pig Game Basics:\n",
    "- Players take turns rolling a six-sided die.\n",
    "- On their turn, a player can choose to continue rolling or hold.\n",
    "- If they roll a 1, they score nothing, and their turn ends.\n",
    "- If they roll 2-6, they can \"hold\" and add the sum of their rolls to their total score or risk rolling again.\n",
    "- If a player holds, the turn goes to the next player.\n",
    "- The first player to reach or exceed 100 points wins.\n",
    "\n",
    "Implement the basic game for $N$ players.\n",
    "\n",
    "For example, given players Alice, Bob and Charlie:\n",
    "\n",
    "- Turn 1: Alice\n",
    "    - Rolls: 4 → Turn total = 4\n",
    "    - Decides to roll again\n",
    "    - Rolls: 3 → Turn total = 7\n",
    "    - Decides to hold → Alice total = 7\n",
    "\n",
    "- Turn 2: Bob\n",
    "    - Rolls: 5 → Turn total = 5\n",
    "    - Rolls again\n",
    "    - Rolls: 1 → Pig! Turn ends → Bob total = 0\n",
    "\n",
    "- Turn 3: Charlie\n",
    "    - Rolls: 2 → Turn total = 2\n",
    "    - Rolls again\n",
    "    - Rolls: 6 → Turn total = 8\n",
    "    - Holds → Charlie total = 8\n",
    "\n",
    "- Turn 4: Alice\n",
    "    - Rolls: 3 → Turn total = 3\n",
    "    - Rolls again\n",
    "    - Rolls: 2 → Turn total = 5\n",
    "    - Holds → Alice total = 12  (this is adding the previous Alice total of 7 points to this turn's total 5)\n",
    "\n",
    "- ETC."
   ]
  },
  {
   "cell_type": "code",
   "execution_count": null,
   "id": "b7cd7b06",
   "metadata": {},
   "outputs": [],
   "source": []
  },
  {
   "cell_type": "markdown",
   "id": "c706a93c",
   "metadata": {},
   "source": [
    "## Pig AI\n",
    "\n",
    "After establishing the basic game (previous exercise), enhance it with an AI player that uses the Monte Carlo tree search method for decision-making."
   ]
  },
  {
   "cell_type": "code",
   "execution_count": null,
   "id": "fb211fc5",
   "metadata": {},
   "outputs": [],
   "source": []
  }
 ],
 "metadata": {
  "kernelspec": {
   "display_name": "Python 3",
   "language": "python",
   "name": "python3"
  },
  "language_info": {
   "codemirror_mode": {
    "name": "ipython",
    "version": 3
   },
   "file_extension": ".py",
   "mimetype": "text/x-python",
   "name": "python",
   "nbconvert_exporter": "python",
   "pygments_lexer": "ipython3",
   "version": "3.13.7"
  },
  "toc": {
   "base_numbering": 1,
   "nav_menu": {},
   "number_sections": true,
   "sideBar": true,
   "skip_h1_title": false,
   "title_cell": "Table of Contents",
   "title_sidebar": "Contents",
   "toc_cell": false,
   "toc_position": {
    "height": "calc(100% - 180px)",
    "left": "10px",
    "top": "150px",
    "width": "281px"
   },
   "toc_section_display": true,
   "toc_window_display": true
  },
  "varInspector": {
   "cols": {
    "lenName": 16,
    "lenType": 16,
    "lenVar": 40
   },
   "kernels_config": {
    "python": {
     "delete_cmd_postfix": "",
     "delete_cmd_prefix": "del ",
     "library": "var_list.py",
     "varRefreshCmd": "print(var_dic_list())"
    },
    "r": {
     "delete_cmd_postfix": ") ",
     "delete_cmd_prefix": "rm(",
     "library": "var_list.r",
     "varRefreshCmd": "cat(var_dic_list()) "
    }
   },
   "types_to_exclude": [
    "module",
    "function",
    "builtin_function_or_method",
    "instance",
    "_Feature"
   ],
   "window_display": false
  }
 },
 "nbformat": 4,
 "nbformat_minor": 5
}
