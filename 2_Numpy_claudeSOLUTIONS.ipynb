{
 "cells": [
  {
   "cell_type": "markdown",
   "id": "c8bc9166",
   "metadata": {},
   "source": [
    "# Numpy Exercises - SOLUTIONS\n",
    "\n",
    "All exercises solved with simple explanations and comments!"
   ]
  },
  {
   "cell_type": "code",
   "execution_count": null,
   "id": "f67279d6",
   "metadata": {},
   "outputs": [],
   "source": [
    "import numpy as np"
   ]
  },
  {
   "cell_type": "markdown",
   "id": "4dfd6eff",
   "metadata": {},
   "source": [
    "## Zeros\n",
    "\n",
    "Initialize a null vector (with zeroes) of length 20."
   ]
  },
  {
   "cell_type": "code",
   "execution_count": null,
   "id": "5583a4fe",
   "metadata": {},
   "outputs": [],
   "source": [
    "# Create an array filled with zeros of length 20\n",
    "vect = np.zeros(20)\n",
    "print(vect)"
   ]
  },
  {
   "cell_type": "markdown",
   "id": "1c06071c",
   "metadata": {},
   "source": [
    "## Matrix Init\n",
    "\n",
    "Initialize a null matrix (with zeros) with size 3x2."
   ]
  },
  {
   "cell_type": "code",
   "execution_count": null,
   "id": "79fb07dc",
   "metadata": {},
   "outputs": [],
   "source": [
    "# Create a matrix with 3 rows and 2 columns filled with zeros\n",
    "# Note: shape is passed as a tuple (3, 2)\n",
    "mat = np.zeros((3, 2))\n",
    "print(mat)"
   ]
  },
  {
   "cell_type": "markdown",
   "id": "9086b01e",
   "metadata": {},
   "source": [
    "## Replace\n",
    "\n",
    "Replace the minimum element of a random vector with a 0."
   ]
  },
  {
   "cell_type": "code",
   "execution_count": null,
   "id": "d2c2741d",
   "metadata": {},
   "outputs": [],
   "source": [
    "# Create a random number generator\n",
    "rng = np.random.default_rng()\n",
    "\n",
    "# Generate 10 random integers between 0 and 10\n",
    "a = rng.integers(0, 10, size=10)\n",
    "print(\"Before:\", a)\n",
    "\n",
    "# Find the minimum value in the array\n",
    "min_value = a.min()\n",
    "print(\"Minimum value:\", min_value)\n",
    "\n",
    "# Find the index of the minimum value and replace it with 0\n",
    "min_index = a.argmin()  # argmin() returns the index of minimum value\n",
    "a[min_index] = 0\n",
    "\n",
    "print(\"After:\", a)"
   ]
  },
  {
   "cell_type": "markdown",
   "id": "4cbf94a9",
   "metadata": {},
   "source": [
    "## Consecutive\n",
    "\n",
    "Create a vector with all consecutive values between 12 and 38."
   ]
  },
  {
   "cell_type": "code",
   "execution_count": null,
   "id": "5a6423c8",
   "metadata": {},
   "outputs": [],
   "source": [
    "# Use arange to create consecutive numbers from 12 to 37 (38 is excluded)\n",
    "b = np.arange(12, 38)\n",
    "print(b)"
   ]
  },
  {
   "cell_type": "markdown",
   "id": "e111c6ba",
   "metadata": {},
   "source": [
    "## Vector Init\n",
    "\n",
    "Initialize a vector of length 10 with integer random numbers between 1 and 20."
   ]
  },
  {
   "cell_type": "code",
   "execution_count": null,
   "id": "9b9aa163",
   "metadata": {},
   "outputs": [],
   "source": [
    "# Create random generator\n",
    "rng = np.random.default_rng()\n",
    "\n",
    "# Generate 10 random integers between 1 and 20 (20 is excluded)\n",
    "c = rng.integers(1, 20, size=10)\n",
    "print(\"Vector:\", c)"
   ]
  },
  {
   "cell_type": "markdown",
   "id": "ccbe9647",
   "metadata": {},
   "source": [
    "a) Filter the elements that are greater than 3 and less than 12."
   ]
  },
  {
   "cell_type": "code",
   "execution_count": null,
   "id": "7d30ca90",
   "metadata": {},
   "outputs": [],
   "source": [
    "# Create a boolean mask: True where value > 3 AND value < 12\n",
    "mask = (c > 3) & (c < 12)\n",
    "\n",
    "# Apply the mask to filter the array\n",
    "filtered_a = c[mask]\n",
    "print(\"Filtered (3 < x < 12):\", filtered_a)"
   ]
  },
  {
   "cell_type": "markdown",
   "id": "bae1859e",
   "metadata": {},
   "source": [
    "b) Filter the elements that are less than or equal to 5 or greater than 15."
   ]
  },
  {
   "cell_type": "code",
   "execution_count": null,
   "id": "2a74a6ec",
   "metadata": {},
   "outputs": [],
   "source": [
    "# Create a boolean mask: True where value <= 5 OR value > 15\n",
    "mask = (c <= 5) | (c > 15)\n",
    "\n",
    "# Apply the mask to filter the array\n",
    "filtered_b = c[mask]\n",
    "print(\"Filtered (x <= 5 or x > 15):\", filtered_b)"
   ]
  },
  {
   "cell_type": "markdown",
   "id": "0a5ebc0d",
   "metadata": {},
   "source": [
    "## Random Matrix\n",
    "\n",
    "Create a 4x4 matrix with integer random numbers between 0 and 5."
   ]
  },
  {
   "cell_type": "code",
   "execution_count": null,
   "id": "71d1ed76",
   "metadata": {},
   "outputs": [],
   "source": [
    "# Create random generator\n",
    "rng = np.random.default_rng()\n",
    "\n",
    "# Generate 4x4 matrix with random integers between 0 and 5 (6 is excluded)\n",
    "matrix = rng.integers(0, 6, size=(4, 4))\n",
    "print(matrix)"
   ]
  },
  {
   "cell_type": "markdown",
   "id": "33f33aff",
   "metadata": {},
   "source": [
    "## Not Zero\n",
    "\n",
    "Find the indices of the elements that are not 0 in the vector: [2, 1, 0, 0, 3, 1, 0]."
   ]
  },
  {
   "cell_type": "code",
   "execution_count": null,
   "id": "6f51dcf8",
   "metadata": {},
   "outputs": [],
   "source": [
    "# Define the vector\n",
    "v = np.array([2, 1, 0, 0, 3, 1, 0])\n",
    "\n",
    "# Use np.nonzero() to find indices of non-zero elements\n",
    "# It returns a tuple, so we take the first element [0]\n",
    "indices = np.nonzero(v)[0]\n",
    "print(\"Indices of non-zero elements:\", indices)"
   ]
  },
  {
   "cell_type": "markdown",
   "id": "34a1640c",
   "metadata": {},
   "source": [
    "## Statistics\n",
    "\n",
    "Create a random vector of length 10 and find the minimum, maximum, mean and standard deviation."
   ]
  },
  {
   "cell_type": "code",
   "execution_count": null,
   "id": "fcfd6d8b",
   "metadata": {},
   "outputs": [],
   "source": [
    "# Create random vector with 10 float values between 0 and 1\n",
    "rng = np.random.default_rng()\n",
    "vec = rng.random(10)\n",
    "\n",
    "print(\"Vector:\", vec)\n",
    "print(\"\\nStatistics:\")\n",
    "print(\"Minimum:\", vec.min())          # Find minimum value\n",
    "print(\"Maximum:\", vec.max())          # Find maximum value\n",
    "print(\"Mean:\", vec.mean())            # Calculate average\n",
    "print(\"Standard Deviation:\", vec.std())  # Calculate standard deviation"
   ]
  },
  {
   "cell_type": "markdown",
   "id": "dace7b96",
   "metadata": {},
   "source": [
    "## Surround\n",
    "\n",
    "Create a 10x10 matrix with zeroes inside and ones surrounding them."
   ]
  },
  {
   "cell_type": "code",
   "execution_count": null,
   "id": "b54a784d",
   "metadata": {},
   "outputs": [],
   "source": [
    "# Create a 10x10 matrix filled with ones\n",
    "matrix = np.ones((10, 10))\n",
    "\n",
    "# Replace the inner part (excluding borders) with zeros\n",
    "# [1:-1, 1:-1] means: from row 1 to second-last row, from column 1 to second-last column\n",
    "matrix[1:-1, 1:-1] = 0\n",
    "\n",
    "print(matrix)"
   ]
  },
  {
   "cell_type": "markdown",
   "id": "0b1c9eda",
   "metadata": {},
   "source": [
    "## Zero Replace\n",
    "\n",
    "Define a function that, given a vector, returns all the elements greater than 10 replaced by 0.\n",
    "\n",
    "Example: [4, 7, 15, 21, 3, 34] → [4, 7, 0, 0, 3, 0]"
   ]
  },
  {
   "cell_type": "code",
   "execution_count": null,
   "id": "5bcec26a",
   "metadata": {},
   "outputs": [],
   "source": [
    "def zero_replace(vector):\n",
    "    \"\"\"\n",
    "    Replace all elements greater than 10 with 0\n",
    "    \"\"\"\n",
    "    # Make a copy to avoid modifying the original array\n",
    "    result = vector.copy()\n",
    "    \n",
    "    # Create boolean mask: True where value > 10\n",
    "    # Then set those positions to 0\n",
    "    result[result > 10] = 0\n",
    "    \n",
    "    return result\n",
    "\n",
    "# Test the function\n",
    "test_vec = np.array([4, 7, 15, 21, 3, 34])\n",
    "print(\"Original:\", test_vec)\n",
    "print(\"After replacement:\", zero_replace(test_vec))"
   ]
  },
  {
   "cell_type": "markdown",
   "id": "38b7d540",
   "metadata": {},
   "source": [
    "## Negate\n",
    "\n",
    "Define a function that negates (changes the sign) all the elements of a vector with values between 2 and 6.\n",
    "\n",
    "Example: [4, 7, -6, 21, 3, 34] → [-4,  7, 6, 21, -3, 34]"
   ]
  },
  {
   "cell_type": "code",
   "execution_count": null,
   "id": "cdb34430",
   "metadata": {},
   "outputs": [],
   "source": [
    "def negate_between(vector):\n",
    "    \"\"\"\n",
    "    Negate all elements with absolute value between 2 and 6\n",
    "    \"\"\"\n",
    "    # Make a copy to avoid modifying the original\n",
    "    result = vector.copy()\n",
    "    \n",
    "    # Create mask: True where absolute value is between 2 and 6 (inclusive)\n",
    "    mask = (np.abs(result) >= 2) & (np.abs(result) <= 6)\n",
    "    \n",
    "    # Negate the values at those positions by multiplying by -1\n",
    "    result[mask] = -result[mask]\n",
    "    \n",
    "    return result\n",
    "\n",
    "# Test the function\n",
    "test_vec = np.array([4, 7, -6, 21, 3, 34])\n",
    "print(\"Original:\", test_vec)\n",
    "print(\"After negation:\", negate_between(test_vec))"
   ]
  },
  {
   "cell_type": "markdown",
   "id": "8c0cf1f3",
   "metadata": {},
   "source": [
    "## Matrix Negatives\n",
    "\n",
    "Given a matrix containing both positive and negative numbers, modify it so:\n",
    "- Each **positive number** remains unchanged.\n",
    "- Each **negative number** is replaced by the sum of all positive numbers in the same column."
   ]
  },
  {
   "cell_type": "code",
   "execution_count": null,
   "id": "341757d5",
   "metadata": {},
   "outputs": [],
   "source": [
    "# Define the matrix\n",
    "m = np.array([\n",
    "    [ 5, -2,  3],\n",
    "    [-1,  4, -6],\n",
    "    [ 2, -3,  1]\n",
    "])\n",
    "\n",
    "print(\"Original matrix:\")\n",
    "print(m)\n",
    "\n",
    "# Step 1: Create a mask for positive numbers\n",
    "positive_mask = m > 0\n",
    "\n",
    "# Step 2: Calculate sum of positive numbers in each column\n",
    "# We use np.where to replace negatives with 0, then sum columns\n",
    "positive_sums = np.where(positive_mask, m, 0).sum(axis=0)\n",
    "print(\"\\nSum of positives per column:\", positive_sums)\n",
    "\n",
    "# Step 3: Replace negative numbers with the sum of positives in their column\n",
    "# np.where(condition, if_true, if_false)\n",
    "result = np.where(m > 0, m, positive_sums)\n",
    "\n",
    "print(\"\\nResult matrix:\")\n",
    "print(result)"
   ]
  },
  {
   "cell_type": "markdown",
   "id": "d37eb6c4",
   "metadata": {},
   "source": [
    "## Dates\n",
    "\n",
    "Get the dates for today, yesterday and tomorrow."
   ]
  },
  {
   "cell_type": "code",
   "execution_count": null,
   "id": "e2d7e716",
   "metadata": {},
   "outputs": [],
   "source": [
    "# Get today's date\n",
    "today = np.datetime64('today')\n",
    "\n",
    "# Subtract 1 day to get yesterday\n",
    "yesterday = today - np.timedelta64(1, 'D')  # 'D' means day\n",
    "\n",
    "# Add 1 day to get tomorrow\n",
    "tomorrow = today + np.timedelta64(1, 'D')\n",
    "\n",
    "print(\"Yesterday:\", yesterday)\n",
    "print(\"Today:\", today)\n",
    "print(\"Tomorrow:\", tomorrow)"
   ]
  },
  {
   "cell_type": "markdown",
   "id": "63025a56",
   "metadata": {},
   "source": [
    "## September\n",
    "\n",
    "Get all dates in September 2023."
   ]
  },
  {
   "cell_type": "code",
   "execution_count": null,
   "id": "f1c5fbd0",
   "metadata": {},
   "outputs": [],
   "source": [
    "# Create an array of dates from Sept 1 to Sept 30, 2023\n",
    "# np.arange works with dates too!\n",
    "september_dates = np.arange('2023-09-01', '2023-10-01', dtype='datetime64[D]')\n",
    "\n",
    "print(f\"September 2023 has {len(september_dates)} days:\")\n",
    "print(september_dates)"
   ]
  },
  {
   "cell_type": "markdown",
   "id": "dc8c1167",
   "metadata": {},
   "source": [
    "## Week\n",
    "\n",
    "Create an array of dates starting from today and covering the next 7 days."
   ]
  },
  {
   "cell_type": "code",
   "execution_count": null,
   "id": "647d0d07",
   "metadata": {},
   "outputs": [],
   "source": [
    "# Get today's date\n",
    "today = np.datetime64('today')\n",
    "\n",
    "# Create array of next 7 days\n",
    "# We add 0, 1, 2, 3, 4, 5, 6 days to today\n",
    "next_week = today + np.arange(7)\n",
    "\n",
    "print(\"Next 7 days:\")\n",
    "print(next_week)"
   ]
  },
  {
   "cell_type": "markdown",
   "id": "c7a83337",
   "metadata": {},
   "source": [
    "## Diff\n",
    "\n",
    "Given an array of dates, find the differences (in days) between each date and the first date."
   ]
  },
  {
   "cell_type": "code",
   "execution_count": null,
   "id": "c1e3cef5",
   "metadata": {},
   "outputs": [],
   "source": [
    "# Given array of dates\n",
    "dates = np.array(['2023-08-14', '2023-08-17', '2023-08-20', '2025-10-10'], dtype='datetime64')\n",
    "\n",
    "# Calculate difference between each date and the first date\n",
    "# dates - dates[0] gives us timedelta objects\n",
    "differences = dates - dates[0]\n",
    "\n",
    "# Convert to integer days using astype\n",
    "days_diff = differences / np.timedelta64(1, 'D')\n",
    "\n",
    "print(\"Dates:\", dates)\n",
    "print(\"Days from first date:\", days_diff)"
   ]
  },
  {
   "cell_type": "markdown",
   "id": "3132a74a",
   "metadata": {},
   "source": [
    "## Closest\n",
    "\n",
    "Define a function that, given a number N and a vector, returns the element closest to N."
   ]
  },
  {
   "cell_type": "code",
   "execution_count": null,
   "id": "08e2734c",
   "metadata": {},
   "outputs": [],
   "source": [
    "def closest(vector, target):\n",
    "    \"\"\"\n",
    "    Find the element in vector closest to target value\n",
    "    \"\"\"\n",
    "    # Convert to numpy array if it's not already\n",
    "    vec = np.array(vector)\n",
    "    \n",
    "    # Calculate absolute difference between each element and target\n",
    "    differences = np.abs(vec - target)\n",
    "    \n",
    "    # Find the index of minimum difference\n",
    "    closest_index = differences.argmin()\n",
    "    \n",
    "    # Return the element at that index\n",
    "    return vec[closest_index]\n",
    "\n",
    "# Test the function\n",
    "print(\"Closest to 2:\", closest([1, 2, 3, 4], 2))      # Should be 2\n",
    "print(\"Closest to 5:\", closest([1, 2, 3, 4], 5))      # Should be 4\n",
    "print(\"Closest to -3:\", closest([1, 2, 3, 4], -3))    # Should be 1\n",
    "print(\"Closest to 2.4:\", closest([1, 2, 2, 3, 4], 2.4))  # Should be 2\n",
    "print(\"Closest to 2.6:\", closest([1, 2, 2, 3, 4], 2.6))  # Should be 3"
   ]
  },
  {
   "cell_type": "markdown",
   "id": "aa1b4cbb",
   "metadata": {},
   "source": [
    "## N-Greater\n",
    "\n",
    "Define a function that, given a positive number N and a vector, returns the N greater elements from the vector."
   ]
  },
  {
   "cell_type": "code",
   "execution_count": null,
   "id": "79add517",
   "metadata": {},
   "outputs": [],
   "source": [
    "def n_greater(vector, n):\n",
    "    \"\"\"\n",
    "    Return the N largest elements from the vector\n",
    "    \"\"\"\n",
    "    # Convert to numpy array\n",
    "    vec = np.array(vector)\n",
    "    \n",
    "    # Sort array in descending order and take first n elements\n",
    "    # -vec sorts in descending order (largest first)\n",
    "    sorted_indices = np.argsort(-vec)\n",
    "    \n",
    "    # Return the n largest elements\n",
    "    return vec[sorted_indices[:n]]\n",
    "\n",
    "# Test the function\n",
    "test_vec = np.array([5, 2, 8, 1, 9, 3, 7])\n",
    "print(\"Original vector:\", test_vec)\n",
    "print(\"3 largest elements:\", n_greater(test_vec, 3))  # Should be [9, 8, 7]"
   ]
  },
  {
   "cell_type": "markdown",
   "id": "060038d9",
   "metadata": {},
   "source": [
    "## Unique\n",
    "\n",
    "Create a random vector of length 20 with values between 1 and 8. Which unique elements (without repetition) were created?"
   ]
  },
  {
   "cell_type": "code",
   "execution_count": null,
   "id": "626d4e81",
   "metadata": {},
   "outputs": [],
   "source": [
    "# Create random vector\n",
    "rng = np.random.default_rng()\n",
    "vec = rng.integers(1, 9, size=20)  # 9 is excluded, so we get 1-8\n",
    "\n",
    "print(\"Original vector:\")\n",
    "print(vec)\n",
    "\n",
    "# Get unique elements using np.unique()\n",
    "unique_elements = np.unique(vec)\n",
    "\n",
    "print(\"\\nUnique elements:\", unique_elements)\n",
    "print(\"Number of unique elements:\", len(unique_elements))"
   ]
  },
  {
   "cell_type": "markdown",
   "id": "e99656aa",
   "metadata": {},
   "source": [
    "## NaN\n",
    "\n",
    "What will be the result of the following statements?"
   ]
  },
  {
   "cell_type": "code",
   "execution_count": null,
   "id": "ee474b70",
   "metadata": {},
   "outputs": [],
   "source": [
    "# NaN means \"Not a Number\" - a special floating point value\n",
    "# Any operation with NaN results in NaN\n",
    "\n",
    "print(\"0 * np.nan =\", 0 * np.nan)              # Result: nan (anything times NaN is NaN)\n",
    "print(\"np.nan == np.nan =\", np.nan == np.nan)  # Result: False (NaN is not equal to anything, even itself!)\n",
    "print(\"np.inf > np.nan =\", np.inf > np.nan)    # Result: False (comparisons with NaN are always False)\n",
    "print(\"np.nan - np.nan =\", np.nan - np.nan)    # Result: nan (NaN minus NaN is still NaN)\n",
    "print(\"np.nan in set([np.nan]) =\", np.nan in set([np.nan]))  # Result: True (set uses identity, not equality)"
   ]
  },
  {
   "cell_type": "markdown",
   "id": "547e3d90",
   "metadata": {},
   "source": [
    "## Highest Mean\n",
    "\n",
    "Given a 10x10 matrix of random values between 0 and 1, find and print the row with the highest mean value."
   ]
  },
  {
   "cell_type": "code",
   "execution_count": null,
   "id": "03258afc",
   "metadata": {},
   "outputs": [],
   "source": [
    "# Create 10x10 matrix with random values between 0 and 1\n",
    "rng = np.random.default_rng()\n",
    "matrix = rng.random((10, 10))\n",
    "\n",
    "# Calculate mean of each row\n",
    "# axis=1 means calculate along columns (i.e., for each row)\n",
    "row_means = matrix.mean(axis=1)\n",
    "\n",
    "# Find index of row with highest mean\n",
    "max_mean_index = row_means.argmax()\n",
    "\n",
    "print(\"Row means:\", row_means)\n",
    "print(f\"\\nRow {max_mean_index} has the highest mean: {row_means[max_mean_index]:.4f}\")\n",
    "print(\"\\nThat row is:\")\n",
    "print(matrix[max_mean_index])"
   ]
  },
  {
   "cell_type": "markdown",
   "id": "177ae4d1",
   "metadata": {},
   "source": [
    "# Python vs Numpy\n",
    "\n",
    "Compare execution time between Python and Numpy implementations."
   ]
  },
  {
   "cell_type": "markdown",
   "id": "150bc812",
   "metadata": {},
   "source": [
    "## Maximum\n",
    "\n",
    "Compare custom max, Python's max(), and Numpy's max()."
   ]
  },
  {
   "cell_type": "code",
   "execution_count": null,
   "id": "222346b1",
   "metadata": {},
   "outputs": [],
   "source": [
    "def custom_max(numbers):\n",
    "    \"\"\"\n",
    "    Find maximum value without using built-in max()\n",
    "    \"\"\"\n",
    "    # Start with first element as maximum\n",
    "    max_val = numbers[0]\n",
    "    \n",
    "    # Compare with each element\n",
    "    for num in numbers:\n",
    "        if num > max_val:\n",
    "            max_val = num\n",
    "    \n",
    "    return max_val\n",
    "\n",
    "# Create test data\n",
    "import random\n",
    "test_list = [random.random() for _ in range(10000)]\n",
    "test_array = np.array(test_list)\n",
    "\n",
    "print(\"Testing with 10,000 elements...\\n\")\n",
    "\n",
    "# Test custom max\n",
    "print(\"Custom max function:\")\n",
    "%timeit custom_max(test_list)\n",
    "\n",
    "# Test Python's built-in max\n",
    "print(\"\\nPython's built-in max():\")\n",
    "%timeit max(test_list)\n",
    "\n",
    "# Test Numpy's max\n",
    "print(\"\\nNumpy's max():\")\n",
    "%timeit test_array.max()"
   ]
  },
  {
   "cell_type": "markdown",
   "id": "9cfeaaa5",
   "metadata": {},
   "source": [
    "## Mean\n",
    "\n",
    "Compare custom mean and Numpy's mean()."
   ]
  },
  {
   "cell_type": "code",
   "execution_count": null,
   "id": "f3082557",
   "metadata": {},
   "outputs": [],
   "source": [
    "def custom_mean(numbers):\n",
    "    \"\"\"\n",
    "    Calculate average without using built-in functions\n",
    "    \"\"\"\n",
    "    # Sum all numbers\n",
    "    total = 0\n",
    "    for num in numbers:\n",
    "        total += num\n",
    "    \n",
    "    # Divide by count\n",
    "    return total / len(numbers)\n",
    "\n",
    "# Create test data (reuse from previous exercise or create new)\n",
    "test_list = [random.random() for _ in range(10000)]\n",
    "test_array = np.array(test_list)\n",
    "\n",
    "print(\"Testing with 10,000 elements...\\n\")\n",
    "\n",
    "# Test custom mean\n",
    "print(\"Custom mean function:\")\n",
    "%timeit custom_mean(test_list)\n",
    "\n",
    "# Test Numpy's mean\n",
    "print(\"\\nNumpy's mean():\")\n",
    "%timeit test_array.mean()"
   ]
  },
  {
   "cell_type": "markdown",
   "id": "bcf4d6c8",
   "metadata": {},
   "source": [
    "##  One-hot Encoding\n",
    "\n",
    "Implement a function that returns a matrix with the one-hot encoding of a vector.\n",
    "\n",
    "Example: [0, 2, 1, 2, 0, 1] → one-hot encoded matrix"
   ]
  },
  {
   "cell_type": "code",
   "execution_count": null,
   "id": "228ddcbb",
   "metadata": {},
   "outputs": [],
   "source": [
    "def one_hot_encode(vector):\n",
    "    \"\"\"\n",
    "    Convert a vector of integers to one-hot encoding\n",
    "    Each row will have a 1 at the position corresponding to the value\n",
    "    \"\"\"\n",
    "    # Convert to numpy array\n",
    "    vec = np.array(vector)\n",
    "    \n",
    "    # Find number of unique classes\n",
    "    n_classes = vec.max() + 1\n",
    "    \n",
    "    # Create zero matrix: rows = length of vector, columns = number of classes\n",
    "    one_hot = np.zeros((len(vec), n_classes))\n",
    "    \n",
    "    # Set 1 at appropriate positions\n",
    "    # For each row i, set column vec[i] to 1\n",
    "    one_hot[np.arange(len(vec)), vec] = 1\n",
    "    \n",
    "    return one_hot\n",
    "\n",
    "# Test the function\n",
    "input_vec = [0, 2, 1, 2, 0, 1]\n",
    "result = one_hot_encode(input_vec)\n",
    "\n",
    "print(\"Input:\", input_vec)\n",
    "print(\"\\nOne-hot encoded:\")\n",
    "print(result)"
   ]
  },
  {
   "cell_type": "markdown",
   "id": "bf103599",
   "metadata": {},
   "source": [
    "## Min-Max Scaling\n",
    "\n",
    "Implement min-max scaling to normalize values to [0, 1] range.\n",
    "\n",
    "Formula: (x - min) / (max - min)"
   ]
  },
  {
   "cell_type": "code",
   "execution_count": null,
   "id": "9bbb64f6",
   "metadata": {},
   "outputs": [],
   "source": [
    "def minmax_scale(values):\n",
    "    \"\"\"\n",
    "    Scale values to range [0, 1] using min-max normalization\n",
    "    \"\"\"\n",
    "    # Convert to numpy array\n",
    "    arr = np.array(values)\n",
    "    \n",
    "    # Find minimum and maximum values\n",
    "    min_val = arr.min()\n",
    "    max_val = arr.max()\n",
    "    \n",
    "    # Apply min-max scaling formula\n",
    "    # (x - min) / (max - min)\n",
    "    scaled = (arr - min_val) / (max_val - min_val)\n",
    "    \n",
    "    return scaled\n",
    "\n",
    "# Test the function\n",
    "test_values = [10, 20, 30, 40, 50]\n",
    "print(\"Original values:\", test_values)\n",
    "print(\"Scaled values:\", minmax_scale(test_values))\n",
    "\n",
    "# Another test\n",
    "test_values2 = [5, 15, 25, 100]\n",
    "print(\"\\nOriginal values:\", test_values2)\n",
    "print(\"Scaled values:\", minmax_scale(test_values2))"
   ]
  },
  {
   "cell_type": "markdown",
   "id": "7a98ca69",
   "metadata": {},
   "source": [
    "## Fruit Ninja\n",
    "\n",
    "You've sliced 100 fruits with random scores 1-100. Every third score is doubled. Calculate total."
   ]
  },
  {
   "cell_type": "code",
   "execution_count": null,
   "id": "87dbf1eb",
   "metadata": {},
   "outputs": [],
   "source": [
    "# Generate 100 random scores between 1 and 100\n",
    "rng = np.random.default_rng(seed=42)  # seed for reproducibility\n",
    "scores = rng.integers(1, 101, size=100)\n",
    "\n",
    "# Create a copy to modify\n",
    "final_scores = scores.copy()\n",
    "\n",
    "# Double every third score (indices 2, 5, 8, 11, ... which is every 3rd starting from index 2)\n",
    "# Use slicing: [2::3] means start at index 2, go to end, step by 3\n",
    "final_scores[2::3] = final_scores[2::3] * 2\n",
    "\n",
    "# Calculate total score\n",
    "total_score = final_scores.sum()\n",
    "\n",
    "print(f\"Total score: {total_score}\")\n",
    "print(f\"Average score per fruit: {final_scores.mean():.2f}\")"
   ]
  },
  {
   "cell_type": "markdown",
   "id": "7b937b83",
   "metadata": {},
   "source": [
    "## Time Traveler\n",
    "\n",
    "Create dates from 1923-08-14 to 2023-08-14 in 10-year increments, then randomly select 3 dates."
   ]
  },
  {
   "cell_type": "code",
   "execution_count": null,
   "id": "137f7069",
   "metadata": {},
   "outputs": [],
   "source": [
    "# Create array of dates in 10-year increments\n",
    "# From 1923-08-14 to 2023-08-14\n",
    "start_date = np.datetime64('1923-08-14')\n",
    "end_date = np.datetime64('2023-08-14')\n",
    "\n",
    "# Calculate number of 10-year periods\n",
    "# 100 years / 10 = 10 periods, plus 1 for the start = 11 dates\n",
    "dates = start_date + np.arange(0, 101, 10) * np.timedelta64(1, 'Y')  # 'Y' means year\n",
    "\n",
    "print(\"All dates (10-year increments):\")\n",
    "print(dates)\n",
    "\n",
    "# Randomly select 3 dates\n",
    "rng = np.random.default_rng()\n",
    "selected_dates = rng.choice(dates, size=3, replace=False)  # replace=False means no duplicates\n",
    "\n",
    "print(\"\\nRandomly selected 3 dates to visit:\")\n",
    "print(selected_dates)"
   ]
  },
  {
   "cell_type": "markdown",
   "id": "3083b179",
   "metadata": {},
   "source": [
    "## Aliens\n",
    "\n",
    "Extract the real message from binary signal (from first 1 to last 1)."
   ]
  },
  {
   "cell_type": "code",
   "execution_count": null,
   "id": "2376bea8",
   "metadata": {},
   "outputs": [],
   "source": [
    "# Function that generates a random alien message\n",
    "def get_aliens_message():\n",
    "    # Creating a message where majority is zeros\n",
    "    message = np.zeros(100, dtype=int)\n",
    "\n",
    "    # Introducing the real message\n",
    "    start_index = np.random.randint(10, 40)\n",
    "    end_index = np.random.randint(60, 90)\n",
    "\n",
    "    message[start_index:end_index] = np.random.randint(2, size=end_index-start_index)\n",
    "    message[start_index] = 1\n",
    "    message[end_index] = 1\n",
    "    return message\n",
    "\n",
    "# Get an alien message\n",
    "message = get_aliens_message()\n",
    "\n",
    "print(\"Received message:\")\n",
    "print(message)\n",
    "\n",
    "# Find indices where value is 1\n",
    "ones_indices = np.where(message == 1)[0]\n",
    "\n",
    "# Get first and last index of 1\n",
    "first_one = ones_indices[0]\n",
    "last_one = ones_indices[-1]\n",
    "\n",
    "# Extract the real message (from first 1 to last 1, inclusive)\n",
    "real_message = message[first_one:last_one + 1]\n",
    "\n",
    "print(f\"\\nReal message (from index {first_one} to {last_one}):\")\n",
    "print(real_message)\n",
    "print(f\"Length: {len(real_message)}\")"
   ]
  },
  {
   "cell_type": "markdown",
   "id": "84e93f70",
   "metadata": {},
   "source": [
    "## Temperature Log\n",
    "\n",
    "Identify days where temperature is at least 2 standard deviations from mean."
   ]
  },
  {
   "cell_type": "code",
   "execution_count": null,
   "id": "4161bd13",
   "metadata": {},
   "outputs": [],
   "source": [
    "def detect_temperature_anomalies(temps):\n",
    "    \"\"\"\n",
    "    Find days where temperature is at least 2 standard deviations away from mean\n",
    "    \"\"\"\n",
    "    # Calculate mean temperature\n",
    "    mean_temp = temps.mean()\n",
    "    \n",
    "    # Calculate standard deviation\n",
    "    std_temp = temps.std()\n",
    "    \n",
    "    # Calculate how many standard deviations away each temp is from mean\n",
    "    z_scores = np.abs(temps - mean_temp) / std_temp\n",
    "    \n",
    "    # Find indices where z-score >= 2 (at least 2 std devs away)\n",
    "    anomaly_indices = np.where(z_scores >= 2)[0]\n",
    "    \n",
    "    return anomaly_indices\n",
    "\n",
    "# Test with simulated temperatures\n",
    "# Mean 25°C with standard deviation 5°C\n",
    "rng = np.random.default_rng(seed=42)\n",
    "temps = rng.normal(25, 5, 365)\n",
    "\n",
    "anomalies = detect_temperature_anomalies(temps)\n",
    "\n",
    "print(f\"Found {len(anomalies)} anomalous days:\")\n",
    "print(\"Day indices:\", anomalies)\n",
    "print(\"\\nTemperatures on those days:\")\n",
    "print(temps[anomalies])"
   ]
  },
  {
   "cell_type": "markdown",
   "id": "62a87a5b",
   "metadata": {},
   "source": [
    "## Max Pooling\n",
    "\n",
    "Perform 2×2 max pooling on a matrix."
   ]
  },
  {
   "cell_type": "code",
   "execution_count": null,
   "id": "4969c672",
   "metadata": {},
   "outputs": [],
   "source": [
    "def max_pooling(matrix):\n",
    "    \"\"\"\n",
    "    Perform 2x2 max pooling on a matrix\n",
    "    Takes the maximum value from each 2x2 window\n",
    "    \"\"\"\n",
    "    # Get dimensions\n",
    "    rows, cols = matrix.shape\n",
    "    \n",
    "    # Output will be (rows-1) x (cols-1)\n",
    "    result = np.zeros((rows - 1, cols - 1))\n",
    "    \n",
    "    # Slide through the matrix\n",
    "    for i in range(rows - 1):\n",
    "        for j in range(cols - 1):\n",
    "            # Extract 2x2 window\n",
    "            window = matrix[i:i+2, j:j+2]\n",
    "            # Take maximum value in window\n",
    "            result[i, j] = window.max()\n",
    "    \n",
    "    return result.astype(int)\n",
    "\n",
    "# Test matrix\n",
    "matrix = np.array([\n",
    "    [1, 3, 2, 4],\n",
    "    [5, 6, 1, 0],\n",
    "    [2, 8, 3, 1],\n",
    "    [4, 7, 2, 5],\n",
    "])\n",
    "\n",
    "print(\"Original matrix:\")\n",
    "print(matrix)\n",
    "\n",
    "result = max_pooling(matrix)\n",
    "print(\"\\nAfter 2x2 max pooling:\")\n",
    "print(result)"
   ]
  },
  {
   "cell_type": "markdown",
   "id": "d71ac435",
   "metadata": {},
   "source": [
    "## The Game of Life\n",
    "\n",
    "Implement Conway's Game of Life using Numpy.\n",
    "\n",
    "Rules:\n",
    "1. Any live cell with 2 or 3 live neighbors survives\n",
    "2. Any dead cell with exactly 3 live neighbors becomes alive\n",
    "3. All other cells die or stay dead"
   ]
  },
  {
   "cell_type": "code",
   "execution_count": null,
   "id": "f3e468fe",
   "metadata": {},
   "outputs": [],
   "source": [
    "def game_of_life_step(grid):\n",
    "    \"\"\"\n",
    "    Perform one step of Conway's Game of Life\n",
    "    \"\"\"\n",
    "    # Get grid dimensions\n",
    "    rows, cols = grid.shape\n",
    "    \n",
    "    # Create new grid for next generation\n",
    "    new_grid = np.zeros_like(grid)\n",
    "    \n",
    "    # Count neighbors for each cell\n",
    "    for i in range(rows):\n",
    "        for j in range(cols):\n",
    "            # Count living neighbors\n",
    "            # Check all 8 surrounding cells\n",
    "            neighbors = 0\n",
    "            for di in [-1, 0, 1]:\n",
    "                for dj in [-1, 0, 1]:\n",
    "                    # Skip the cell itself\n",
    "                    if di == 0 and dj == 0:\n",
    "                        continue\n",
    "                    \n",
    "                    # Calculate neighbor position with wrapping (toroidal grid)\n",
    "                    ni = (i + di) % rows\n",
    "                    nj = (j + dj) % cols\n",
    "                    \n",
    "                    neighbors += grid[ni, nj]\n",
    "            \n",
    "            # Apply Game of Life rules\n",
    "            if grid[i, j] == 1:  # Cell is alive\n",
    "                # Survives with 2 or 3 neighbors\n",
    "                if neighbors in [2, 3]:\n",
    "                    new_grid[i, j] = 1\n",
    "            else:  # Cell is dead\n",
    "                # Becomes alive with exactly 3 neighbors\n",
    "                if neighbors == 3:\n",
    "                    new_grid[i, j] = 1\n",
    "    \n",
    "    return new_grid\n",
    "\n",
    "# Create initial grid with a simple pattern (glider)\n",
    "grid = np.zeros((10, 10), dtype=int)\n",
    "# Glider pattern\n",
    "grid[1, 2] = 1\n",
    "grid[2, 3] = 1\n",
    "grid[3, 1:4] = 1\n",
    "\n",
    "print(\"Initial state:\")\n",
    "print(grid)\n",
    "\n",
    "# Run a few generations\n",
    "for generation in range(1, 5):\n",
    "    grid = game_of_life_step(grid)\n",
    "    print(f\"\\nGeneration {generation}:\")\n",
    "    print(grid)"
   ]
  }
 ],
 "metadata": {
  "kernelspec": {
   "display_name": "Python 3",
   "language": "python",
   "name": "python3"
  },
  "language_info": {
   "codemirror_mode": {
    "name": "ipython",
    "version": 3
   },
   "file_extension": ".py",
   "mimetype": "text/x-python",
   "name": "python",
   "nbconvert_exporter": "python",
   "pygments_lexer": "ipython3",
   "version": "3.13.7"
  }
 },
 "nbformat": 4,
 "nbformat_minor": 5
}
