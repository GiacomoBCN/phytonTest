{
 "cells": [
  {
   "cell_type": "markdown",
   "id": "aee9a2c9",
   "metadata": {},
   "source": [
    "# Python Exercises\n",
    "\n",
    "Python cheatsheet: https://quickref.me/python.html\n",
    "\n",
    "Feel free to use any Python function from the built-in functions or typical Python libraries when you consider itappropriate. It is important to not repeat code that is already implemented."
   ]
  },
  {
   "cell_type": "markdown",
   "id": "d1e47a49",
   "metadata": {},
   "source": [
    "## Dual Sorting Criterion\n",
    "\n",
    "Given a list of (tuple) pairs:\n",
    "1. Sort them based on the first element of the pair\n",
    "    - Example: `[(2, 3), (9, 5), (7, 2)]` → `[(2, 3), (7, 2), (9, 5)]`\n",
    "2. Sort them based on the second element of the pair.\n",
    "    - Example: `[(2, 3), (9, 5), (7, 2)]` → `[(7, 2), (2, 3), (9, 5)]`"
   ]
  },
  {
   "cell_type": "code",
   "execution_count": null,
   "id": "29e54bf1",
   "metadata": {},
   "outputs": [],
   "source": [
    "def list_of_pairs_sort(l, first=True):\n",
    "    i = 0 if first else 1\n",
    "    return sorted(l, key=lambda e: e[i])"
   ]
  },
  {
   "cell_type": "code",
   "execution_count": null,
   "id": "d7292edf",
   "metadata": {},
   "outputs": [
    {
     "data": {
      "text/plain": [
       "[(2, 3), (7, 2), (9, 5)]"
      ]
     },
     "metadata": {},
     "output_type": "display_data"
    }
   ],
   "source": [
    "lst = [(2, 3), (9, 5), (7, 2)]\n",
    "list_of_pairs_sort(lst, first=True)"
   ]
  },
  {
   "cell_type": "code",
   "execution_count": null,
   "id": "a86a658f",
   "metadata": {},
   "outputs": [
    {
     "data": {
      "text/plain": [
       "[(7, 2), (2, 3), (9, 5)]"
      ]
     },
     "metadata": {},
     "output_type": "display_data"
    }
   ],
   "source": [
    "list_of_pairs_sort(lst, first=False)"
   ]
  },
  {
   "cell_type": "markdown",
   "id": "f6f8796f",
   "metadata": {},
   "source": [
    "## Dictionary for Counting Repetitions\n",
    "\n",
    "Given a list containing repetitions, create a dictionary where keys are unique elements from the list, and the values represent the repetition counts.\n",
    "\n",
    "Example:\n",
    "    `[1, 2, 2, 2, 3, 3]` → `{1: 1, 2: 3, 3: 2}`"
   ]
  },
  {
   "cell_type": "code",
   "execution_count": 1,
   "id": "e342d217",
   "metadata": {},
   "outputs": [
    {
     "data": {
      "text/plain": [
       "{1: 1, 2: 3, 3: 2}"
      ]
     },
     "execution_count": 1,
     "metadata": {},
     "output_type": "execute_result"
    }
   ],
   "source": [
    "lst = [1, 2, 2, 2, 3, 3]\n",
    "d = {}\n",
    "\n",
    "for v in lst:\n",
    "    d[v] = d.get(v, 0) + 1\n",
    "d"
   ]
  },
  {
   "cell_type": "markdown",
   "id": "aa16caf7",
   "metadata": {},
   "source": [
    "## Anagrams\n",
    "\n",
    "Write a function that returns `True` if two given words are anagrams, and `False` otherwise.\n",
    "\n",
    "An anagram is when two words contain exactly the same characters in the same frequency, but potentially in a different order. For example, `\"act\"` and `\"tac\"` are anagrams because both words use the characters `'a'`, `'c'`, and `'t'`."
   ]
  },
  {
   "cell_type": "code",
   "execution_count": null,
   "id": "12d5c907",
   "metadata": {},
   "outputs": [],
   "source": [
    "def are_anagrams(a, b):\n",
    "    return sorted(a.lower()) == sorted(b.lower())"
   ]
  },
  {
   "cell_type": "code",
   "execution_count": null,
   "id": "45754cee",
   "metadata": {},
   "outputs": [
    {
     "data": {
      "text/plain": [
       "True"
      ]
     },
     "metadata": {},
     "output_type": "display_data"
    }
   ],
   "source": [
    "are_anagrams('act', 'tac')"
   ]
  },
  {
   "cell_type": "code",
   "execution_count": null,
   "id": "ab556278",
   "metadata": {},
   "outputs": [
    {
     "data": {
      "text/plain": [
       "False"
      ]
     },
     "metadata": {},
     "output_type": "display_data"
    }
   ],
   "source": [
    "are_anagrams('aactt', 'tac')"
   ]
  },
  {
   "cell_type": "markdown",
   "id": "fe59251c",
   "metadata": {},
   "source": [
    "## Save a List to a File\n",
    "\n",
    "Given a list of words, create a text file in your computer that contains the words from the list, in the same order, with one word per line."
   ]
  },
  {
   "cell_type": "code",
   "execution_count": null,
   "id": "9283eaf3",
   "metadata": {},
   "outputs": [],
   "source": [
    "words = [\"banana\", \"apple\", \"cherry\"]"
   ]
  },
  {
   "cell_type": "code",
   "execution_count": null,
   "id": "3cd8c648",
   "metadata": {},
   "outputs": [],
   "source": [
    "with open(\"files/list_ex2.txt\", 'w') as f:\n",
    "    for e in f:\n",
    "        f.write(e + '\\n')"
   ]
  },
  {
   "cell_type": "markdown",
   "id": "1af0a611",
   "metadata": {},
   "source": [
    "## Read a List from a File\n",
    "\n",
    "Given a text file containing a word on each line (like the one in the previous exercise), read it and store the words in a list in the same order."
   ]
  },
  {
   "cell_type": "code",
   "execution_count": null,
   "id": "0755f201",
   "metadata": {},
   "outputs": [],
   "source": [
    "with open('files/list_ex2.txt', 'r') as f:\n",
    "    lst_file = [l.strip() for l in f.readlines()]\n",
    "lst_file"
   ]
  },
  {
   "cell_type": "markdown",
   "id": "e4e0d8b1",
   "metadata": {},
   "source": [
    "## Combinatorial Numbers\n",
    "\n",
    "Implement a function that calculates binomial coefficients (also known as elements of Pascal's Triangle) up to a depth of $N$. Print them in a \"triangle format\".\n",
    "\n",
    "The binomial coefficient is defined mathematically as:\n",
    "\n",
    "$\\frac{n!}{k!(n−k)!}$\n",
    "\n",
    "Where $n!$ is the factorial of $n$.\n",
    "\n",
    "For Pascal’s Triangle, the structure starts with 1 at the top, and every row $n$ contains the binomial coefficients for that row, iterating over $k$ from $0$ to $n$ for computing the elements of the row:\n",
    "\n",
    "```\n",
    "      1       <- Row 0: 1 element (n=0, k=0)\n",
    "     1 1      <- Row 1: 2 elements (n=1, k=0,1)\n",
    "    1 2 1     <- Row 2: 3 elements (n=2, k=0,1,2)\n",
    "   1 3 3 1    <- Row 3: 4 elements (n=3, k=0,1,2,3)\n",
    "  1 4 6 4 1   <- Row 4: 5 elements (n=4, k=0,1,2,3,4)\n",
    "```\n",
    "\n",
    "Write a function called `pascal(N)` for displaying Pascal's triangle up to a given number depth of $N$, which specifies the number of rows of the triangle.\n",
    "\n",
    "You can use `factorial()` function from `math` module to compute the factorial of a number."
   ]
  },
  {
   "cell_type": "code",
   "execution_count": 19,
   "id": "99d62e8a",
   "metadata": {},
   "outputs": [],
   "source": [
    "from math import factorial\n",
    "\n",
    "def pascal(n):\n",
    "    for i in range(n):\n",
    "        for j in range(n-i+1):\n",
    "            print(end=\" \")\n",
    "\n",
    "        for j in range(i+1):\n",
    "            print(factorial(i) // (factorial(j) * factorial(i-j)), end=' ')\n",
    "\n",
    "        print()"
   ]
  },
  {
   "cell_type": "code",
   "execution_count": 20,
   "id": "d415aff3",
   "metadata": {},
   "outputs": [
    {
     "name": "stdout",
     "output_type": "stream",
     "text": [
      "      1 \n",
      "     1 1 \n",
      "    1 2 1 \n",
      "   1 3 3 1 \n",
      "  1 4 6 4 1 \n"
     ]
    }
   ],
   "source": [
    "pascal(5)"
   ]
  },
  {
   "cell_type": "markdown",
   "id": "76f10e7e",
   "metadata": {},
   "source": [
    "## Robot Movement\n",
    "\n",
    "- A robot moves on a plane starting from point (0,0).\n",
    "- The robot can move UP, DOWN, LEFT, and RIGHT.\n",
    "- The robot's movement trail is given as input string like: `UP 5 DOWN 3 LEFT 3 RIGHT 2`, where the numbers after the direction are the number of steps in that direction.\n",
    "\n",
    "Write a program to calculate the Euclidean distance from the current position after a sequence of movements to the original point. The Euclidean distance between two points (x1, y1) and (x2, y2) is defined as:\n",
    "\n",
    "    Euclidean distance = SQRT((x1 - x2)^2 + (y1 - y2)^2),\n",
    "\n",
    "where SQRT is the square root (√).\n",
    "\n",
    "Example: \n",
    "- Input: UP 5 DOWN 3 LEFT 3 RIGHT 2\n",
    "- Output: 2.24 (rounded to 2 decimals)"
   ]
  },
  {
   "cell_type": "code",
   "execution_count": 24,
   "id": "28f59082",
   "metadata": {},
   "outputs": [],
   "source": [
    "import math"
   ]
  },
  {
   "cell_type": "code",
   "execution_count": 27,
   "id": "a2bcbc97",
   "metadata": {},
   "outputs": [],
   "source": [
    "def robot_distance(props):\n",
    "    pos = [0, 0]\n",
    "    new_prop = props.split(' ')\n",
    "    \n",
    "    for x in range(len(new_prop)):\n",
    "        if new_prop[x].upper() == 'UP':\n",
    "            pos[0] += int(new_prop[x+1])\n",
    "        elif new_prop[x].upper() == 'DOWN':\n",
    "            pos[0] -= int(new_prop[x+1])\n",
    "        elif new_prop[x].upper() == 'LEFT':\n",
    "            pos[1] -= int(new_prop[x+1])\n",
    "        elif new_prop[x].upper() == 'RIGHT':\n",
    "            pos[1] += int(new_prop[x+1])\n",
    "\n",
    "    print(f'End pos: {tuple(pos)}')\n",
    "    \n",
    "    return round(math.sqrt(pos[0]**2 + pos[1]**2), 2)"
   ]
  },
  {
   "cell_type": "code",
   "execution_count": 28,
   "id": "b91c8eeb",
   "metadata": {},
   "outputs": [
    {
     "name": "stdout",
     "output_type": "stream",
     "text": [
      "End pos: (2, -1)\n"
     ]
    },
    {
     "data": {
      "text/plain": [
       "2.24"
      ]
     },
     "execution_count": 28,
     "metadata": {},
     "output_type": "execute_result"
    }
   ],
   "source": [
    "robot_distance('UP 5 DOWN 3 LEFT 3 RIGHT 2')"
   ]
  },
  {
   "cell_type": "markdown",
   "id": "545f3c2f",
   "metadata": {},
   "source": [
    "## Color by Proximity — Nearest Neighbors\n",
    "\n",
    "Write a function:\n",
    "\n",
    "`predict_color(points, new_point, k)`\n",
    "\n",
    "that **predicts** the color of a new point in 2D space based on its **k** nearest neighbors.\n",
    "\n",
    "Each point is represented as a tuple `(x, y, color)`, where:\n",
    "\n",
    "- `x` and `y` are coordinates,\n",
    "- `color` is a string (e.g. \"red\", \"blue\", \"green\").\n",
    "\n",
    "The function should:\n",
    "\n",
    "1. Compute the **Euclidean distance** between the new point and each existing point.\n",
    "2. Select the **k points with the smallest distances**.\n",
    "3. Predict (return) the color as the **majority color** among those k neighbors.\n",
    "    - If there’s a tie between two or more colors, you can return any of them.\n",
    "\n",
    "\n",
    "This is a simplified version of a ML algorithm called k-Nearest Neighbors (kNN) that we will see in class."
   ]
  },
  {
   "cell_type": "code",
   "execution_count": 9,
   "id": "015441df",
   "metadata": {},
   "outputs": [],
   "source": [
    "# Example data\n",
    "points = [\n",
    "    (1.5, 1.8, \"red\"),\n",
    "    (2.0, 2.1, \"red\"),\n",
    "    (2.2, 1.9, \"red\"),\n",
    "    (1.8, 2.3, \"red\"),\n",
    "    (2.1, 2.4, \"red\"),\n",
    "    (2.7, 1.8, \"green\"),\n",
    "    (3.0, 2.2, \"green\"),\n",
    "    (3.2, 1.9, \"green\"),\n",
    "    (2.8, 2.4, \"green\"),\n",
    "    (3.1, 2.5, \"green\"),\n",
    "    (3.3, 2.8, \"blue\"),\n",
    "    (3.5, 3.1, \"blue\"),\n",
    "    (3.7, 2.9, \"blue\"),\n",
    "    (3.4, 3.3, \"blue\"),\n",
    "    (3.6, 3.2, \"blue\"),\n",
    "]"
   ]
  },
  {
   "cell_type": "code",
   "execution_count": 21,
   "id": "27b54917",
   "metadata": {},
   "outputs": [],
   "source": [
    "# These are examples only, here we can have any other value\n",
    "new_point = (3, 2.8)\n",
    "k = 5"
   ]
  },
  {
   "cell_type": "code",
   "execution_count": 22,
   "id": "f0575d8e",
   "metadata": {},
   "outputs": [],
   "source": [
    "import math\n",
    "from collections import Counter\n",
    "\n",
    "def predict_color(points, new_point, k):\n",
    "    # Compute distances\n",
    "    distances = []\n",
    "    for x, y, color in points:\n",
    "        dist = math.sqrt((x - new_point[0])**2 + (y - new_point[1])**2)\n",
    "        distances.append((dist, color))\n",
    "    \n",
    "    # Sort by distance and take k nearest\n",
    "    distances.sort(key=lambda x: x[0])\n",
    "    nearest_colors = [color for _, color in distances[:k]]\n",
    "    \n",
    "    # Majority vote\n",
    "    most_common = Counter(nearest_colors).most_common(1)[0][0]\n",
    "    return most_common"
   ]
  },
  {
   "cell_type": "code",
   "execution_count": null,
   "id": "420558d6",
   "metadata": {},
   "outputs": [
    {
     "name": "stdout",
     "output_type": "stream",
     "text": [
      "Predicted color: green\n"
     ]
    },
    {
     "data": {
      "image/png": "[encoded data removed]",
      "text/plain": [
       "<Figure size 600x600 with 1 Axes>"
      ]
     },
     "metadata": {},
     "output_type": "display_data"
    }
   ],
   "source": [
    "# This code assumes you've implemented the `predict_color` function that returns a color prediction\n",
    "\n",
    "import matplotlib.pyplot as plt\n",
    "\n",
    "predicted_color = predict_color(points, new_point, k)\n",
    "print(\"Predicted color:\", predicted_color)\n",
    "\n",
    "plt.figure(figsize=(6,6))\n",
    "for x, y, color in points:\n",
    "    plt.scatter(x, y, c=color, s=100, label=color if color not in plt.gca().get_legend_handles_labels()[1] else \"\")\n",
    "\n",
    "plt.scatter(new_point[0], new_point[1], c=predicted_color, s=250, edgecolors='black', marker='X', label=\"Prediction\")\n",
    "plt.legend()\n",
    "plt.title(f\"k = {k}, predicted color = {predicted_color}\")\n",
    "plt.xlabel(\"x\")\n",
    "plt.ylabel(\"y\")\n",
    "plt.grid(True)\n",
    "plt.show()"
   ]
  },
  {
   "cell_type": "markdown",
   "id": "7d8696f8",
   "metadata": {},
   "source": [
    "## kNN Bonus\n",
    "\n",
    "Extend the previous **Color by proximity** exercise by implementing the following extras:\n",
    "\n",
    "1. **Distance function**: Add another parameter to the `predict_color()` function called `dist_fn`, which represents the distance function used to calculate how close two points are.\n",
    "\n",
    "    Previously, you \"hardcoded\" the Euclidean distance, but now your function should use whatever distance function is passed as a parameter — so a programmer can choose the distance metric.\n",
    "\n",
    "    For example, try computing distances using the **Manhattan distance**:\n",
    "        `Manhattan distance = |x1 - x2| + |y1 - y2|`\n",
    "\n",
    "2. **Weighted vote**: Instead of a simple majority vote for predicting the color, give **closer neighbors higher influence**. The idea is that nearer points should “count more” toward the final prediction.\n",
    "\n",
    "    You can assign each neighbor a weight inversely proportional to its distance, such as: `weight = 1 / distance`. To handle the case where the distance is 0 (the new point exactly matches an existing one), you can return the color of that point immediately.\n",
    "\n",
    "    Your goal is to sum the weights of the neighbors for each color and predict the color with the largest total weight."
   ]
  },
  {
   "cell_type": "code",
   "execution_count": 26,
   "id": "81290a1e",
   "metadata": {},
   "outputs": [],
   "source": [
    "import math\n",
    "from collections import defaultdict\n",
    "\n",
    "\n",
    "def predict_color(points, new_point, k, dist_fn):\n",
    "    \"\"\"\n",
    "    Predicts the color of a new point based on k nearest neighbors.\n",
    "    \n",
    "    Parameters\n",
    "    ----------\n",
    "    points : list of tuples (x, y, color)\n",
    "        The known data points with their associated colors.\n",
    "    new_point : tuple (x, y)\n",
    "        The point to predict.\n",
    "    k : int\n",
    "        The number of nearest neighbors to consider.\n",
    "    dist_fn : function\n",
    "        A distance function that takes two points and returns a numeric distance.\n",
    "    \"\"\"\n",
    "    # Compute all distances\n",
    "    distances = []\n",
    "    for x, y, color in points:\n",
    "        dist = dist_fn((x, y), new_point)\n",
    "        distances.append((dist, color))\n",
    "    \n",
    "    # Sort by distance and take k nearest\n",
    "    distances.sort(key=lambda x: x[0])\n",
    "    nearest = distances[:k]\n",
    "    \n",
    "    # Weighted voting: weight = 1 / distance\n",
    "    weights = {}\n",
    "    for dist, color in nearest:\n",
    "        if dist == 0:\n",
    "            # Exact match — immediately return that color\n",
    "            return color\n",
    "        weights[color] = weights.get(color, 0) + (1 / dist)\n",
    "    \n",
    "    # Pick color with largest total weight\n",
    "    predicted_color = max(weights, key=weights.get)\n",
    "    return predicted_color"
   ]
  },
  {
   "cell_type": "code",
   "execution_count": 27,
   "id": "d7b2159e",
   "metadata": {},
   "outputs": [],
   "source": [
    "# Example distance functions\n",
    "def euclidean(p1, p2):\n",
    "    return math.sqrt((p1[0] - p2[0])**2 + (p1[1] - p2[1])**2)\n",
    "\n",
    "def manhattan(p1, p2):\n",
    "    return abs(p1[0] - p2[0]) + abs(p1[1] - p2[1])"
   ]
  },
  {
   "cell_type": "code",
   "execution_count": 29,
   "id": "681c355d",
   "metadata": {},
   "outputs": [
    {
     "name": "stdout",
     "output_type": "stream",
     "text": [
      "Predicted color: blue\n"
     ]
    },
    {
     "data": {
      "image/png": "[encoded data removed]",
      "text/plain": [
       "<Figure size 600x600 with 1 Axes>"
      ]
     },
     "metadata": {},
     "output_type": "display_data"
    }
   ],
   "source": [
    "# This code assumes you've implemented the `predict_color` function that returns a color prediction\n",
    "\n",
    "import matplotlib.pyplot as plt\n",
    "\n",
    "predicted_color = predict_color(points, (3, 3), k, manhattan)\n",
    "print(\"Predicted color:\", predicted_color)\n",
    "\n",
    "plt.figure(figsize=(6,6))\n",
    "for x, y, color in points:\n",
    "    plt.scatter(x, y, c=color, s=100, label=color if color not in plt.gca().get_legend_handles_labels()[1] else \"\")\n",
    "\n",
    "plt.scatter(new_point[0], new_point[1], c=predicted_color, s=250, edgecolors='black', marker='X', label=\"Prediction\")\n",
    "plt.legend()\n",
    "plt.title(f\"k = {k}, predicted color = {predicted_color}\")\n",
    "plt.xlabel(\"x\")\n",
    "plt.ylabel(\"y\")\n",
    "plt.grid(True)\n",
    "plt.show()"
   ]
  },
  {
   "cell_type": "markdown",
   "id": "749f796f",
   "metadata": {},
   "source": [
    "## Pig\n",
    "\n",
    "Create a program that simulates the Pig dice game for multiple players. \n",
    "\n",
    "Pig Game Basics:\n",
    "- Players take turns rolling a six-sided die.\n",
    "- On their turn, a player can choose to continue rolling or hold.\n",
    "- If they roll a 1, they score nothing, and their turn ends.\n",
    "- If they roll 2-6, they can \"hold\" and add the sum of their rolls to their total score or risk rolling again.\n",
    "- If a player holds, the turn goes to the next player.\n",
    "- The first player to reach or exceed 100 points wins.\n",
    "\n",
    "Implement the basic game for $N$ players.\n",
    "\n",
    "For example, given players Alice, Bob and Charlie:\n",
    "\n",
    "- Turn 1: Alice\n",
    "    - Rolls: 4 → Turn total = 4\n",
    "    - Decides to roll again\n",
    "    - Rolls: 3 → Turn total = 7\n",
    "    - Decides to hold → Alice total = 7\n",
    "\n",
    "- Turn 2: Bob\n",
    "    - Rolls: 5 → Turn total = 5\n",
    "    - Rolls again\n",
    "    - Rolls: 1 → Pig! Turn ends → Bob total = 0\n",
    "\n",
    "- Turn 3: Charlie\n",
    "    - Rolls: 2 → Turn total = 2\n",
    "    - Rolls again\n",
    "    - Rolls: 6 → Turn total = 8\n",
    "    - Holds → Charlie total = 8\n",
    "\n",
    "- Turn 4: Alice\n",
    "    - Rolls: 3 → Turn total = 3\n",
    "    - Rolls again\n",
    "    - Rolls: 2 → Turn total = 5\n",
    "    - Holds → Alice total = 12  (this is adding the previous Alice total of 7 points to this turn's total 5)\n",
    "\n",
    "- ETC."
   ]
  },
  {
   "cell_type": "code",
   "execution_count": 9,
   "id": "0653778f",
   "metadata": {},
   "outputs": [],
   "source": [
    "import random\n",
    "import time"
   ]
  },
  {
   "cell_type": "code",
   "execution_count": 10,
   "id": "23a48672",
   "metadata": {},
   "outputs": [],
   "source": [
    "def roll_die():\n",
    "    return random.randint(1, 6)\n",
    "\n",
    "def play_turn(player_name):\n",
    "    turn_total = 0\n",
    "    while True:\n",
    "        roll = roll_die()\n",
    "        print(f\"{player_name} rolled a {roll}\")\n",
    "        \n",
    "        if roll == 1:\n",
    "            return 0\n",
    "        else:\n",
    "            turn_total += roll\n",
    "            print(f\"{player_name}'s turn total is {turn_total}.\")\n",
    "            \n",
    "            choice = input(\"Do you want to roll again or hold? (roll/hold) \").strip().lower()\n",
    "            time.sleep(0.5)\n",
    "            if choice == \"hold\":\n",
    "                return turn_total\n",
    "            elif choice == \"roll\":\n",
    "                continue\n",
    "            elif choice == \"end\":\n",
    "                return -1\n",
    "            else:\n",
    "                print(f\"Invalid choice ({choice}). Only \\\"roll\\\", \\\"hold\\\", or \\\"end\\\" are valid options. Try again.\")\n",
    "                continue\n",
    "\n",
    "def run_pig(n_players):\n",
    "    scores = [0] * n_players\n",
    "    player_names = [f\"Player {i+1}\" for i in range(n_players)]\n",
    "    \n",
    "    while max(scores) < 100:\n",
    "        for i in range(n_players):\n",
    "            print(f\"\\n{player_names[i]}'s turn!\")\n",
    "            print(f\"{player_names[i]}'s total score is {scores[i]}.\")\n",
    "            print('-' * 20)\n",
    "\n",
    "            turn_score = play_turn(player_names[i])\n",
    "            if turn_score == -1:\n",
    "                print(\"Game has been prematurely ended.\")\n",
    "                return\n",
    "            scores[i] += turn_score\n",
    "            \n",
    "            if scores[i] >= 100:\n",
    "                print(f\"{player_names[i]} wins!\")\n",
    "                return"
   ]
  },
  {
   "cell_type": "code",
   "execution_count": 11,
   "id": "af49d788",
   "metadata": {},
   "outputs": [
    {
     "name": "stdout",
     "output_type": "stream",
     "text": [
      "\n",
      "Player 1's turn!\n",
      "Player 1's total score is 0.\n",
      "--------------------\n",
      "Player 1 rolled a 6\n",
      "Player 1's turn total is 6.\n",
      "Player 1 rolled a 5\n",
      "Player 1's turn total is 11.\n",
      "Player 1 rolled a 2\n",
      "Player 1's turn total is 13.\n",
      "Player 1 rolled a 6\n",
      "Player 1's turn total is 19.\n",
      "\n",
      "Player 2's turn!\n",
      "Player 2's total score is 0.\n",
      "--------------------\n",
      "Player 2 rolled a 6\n",
      "Player 2's turn total is 6.\n",
      "Player 2 rolled a 1\n",
      "\n",
      "Player 1's turn!\n",
      "Player 1's total score is 19.\n",
      "--------------------\n",
      "Player 1 rolled a 4\n",
      "Player 1's turn total is 4.\n",
      "Player 1 rolled a 4\n",
      "Player 1's turn total is 8.\n",
      "Player 1 rolled a 2\n",
      "Player 1's turn total is 10.\n",
      "Player 1 rolled a 2\n",
      "Player 1's turn total is 12.\n",
      "Player 1 rolled a 2\n",
      "Player 1's turn total is 14.\n",
      "Player 1 rolled a 3\n",
      "Player 1's turn total is 17.\n",
      "\n",
      "Player 2's turn!\n",
      "Player 2's total score is 0.\n",
      "--------------------\n",
      "Player 2 rolled a 5\n",
      "Player 2's turn total is 5.\n",
      "Game has been prematurely ended.\n"
     ]
    }
   ],
   "source": [
    "n = int(input(\"Enter the number of players: \"))\n",
    "run_pig(n)"
   ]
  },
  {
   "cell_type": "markdown",
   "id": "c706a93c",
   "metadata": {},
   "source": [
    "## Pig AI\n",
    "\n",
    "After establishing the basic game (previous exercise), enhance it with an AI player that uses the Monte Carlo tree search method for decision-making."
   ]
  },
  {
   "cell_type": "code",
   "execution_count": 3,
   "id": "87649fd5",
   "metadata": {},
   "outputs": [
    {
     "name": "stdout",
     "output_type": "stream",
     "text": [
      "\n",
      "Player 1's turn!\n",
      "Player 1's total score is 0.\n",
      "\n",
      "\n",
      "Player 2's turn!\n",
      "Player 2 rolled a 1\n",
      "Player 2's total score is 0.\n",
      "\n",
      "\n",
      "Player 1's turn!\n",
      "Player 1's total score is 0.\n",
      "\n",
      "\n",
      "Player 2's turn!\n",
      "Player 2 rolled a 5\n",
      "Player 2's turn total is 5.\n"
     ]
    }
   ],
   "source": [
    "def simulate_turn(current_score):\n",
    "    # Simulate a turn using a simple Monte Carlo method\n",
    "    simulations = 1000\n",
    "    total_points = 0\n",
    "    \n",
    "    for _ in range(simulations):\n",
    "        turn_total = 0\n",
    "        while True:\n",
    "            roll = roll_die()\n",
    "            if roll == 1:\n",
    "                break\n",
    "            else:\n",
    "                turn_total += roll\n",
    "                # Stop simulation if score goes beyond a certain threshold or wins the game\n",
    "                if current_score + turn_total >= 100 or turn_total > 20:\n",
    "                    break\n",
    "        \n",
    "        total_points += turn_total\n",
    "    \n",
    "    # Average points over simulations\n",
    "    return total_points / simulations\n",
    "\n",
    "def ai_turn(current_score):\n",
    "    turn_total = 0\n",
    "    while True:\n",
    "        expected_points = simulate_turn(current_score + turn_total)\n",
    "        \n",
    "        # If expected points from simulation is low, hold. Otherwise, roll again.\n",
    "        if expected_points < 15:\n",
    "            return turn_total\n",
    "        else:\n",
    "            roll = roll_die()\n",
    "            print(\"AI rolled a\", roll)\n",
    "            if roll == 1:\n",
    "                return 0\n",
    "            turn_total += roll\n",
    "\n",
    "def play_pig_with_ai(n_players, n_ais):\n",
    "    scores = [0] * n_players\n",
    "    player_types = [\"AI\" if i < n_ais else \"Human\" for i in range(n_players)]\n",
    "    \n",
    "    while max(scores) < 100:\n",
    "        for i in range(n_players):\n",
    "            print(f\"\\nPlayer {i+1}'s turn!\")\n",
    "            \n",
    "            if player_types[i] == \"AI\":\n",
    "                scores[i] += ai_turn(scores[i])\n",
    "            else:\n",
    "                scores[i] += play_turn(f\"Player {i+1}\")\n",
    "                \n",
    "            print(f\"Player {i+1}'s total score is {scores[i]}.\")\n",
    "            print('-' * 20)\n",
    "            \n",
    "            if scores[i] >= 100:\n",
    "                print(f\"Player {i+1} wins!\")\n",
    "                return\n",
    "\n",
    "# Play with N players and M AI players\n",
    "n = int(input(\"Enter the total number of players: \"))\n",
    "m = int(input(\"Enter the number of AI players: \"))\n",
    "play_pig_with_ai(n, m)"
   ]
  }
 ],
 "metadata": {
  "kernelspec": {
   "display_name": "Python 3",
   "language": "python",
   "name": "python3"
  },
  "language_info": {
   "codemirror_mode": {
    "name": "ipython",
    "version": 3
   },
   "file_extension": ".py",
   "mimetype": "text/x-python",
   "name": "python",
   "nbconvert_exporter": "python",
   "pygments_lexer": "ipython3",
   "version": "3.13.7"
  },
  "toc": {
   "base_numbering": 1,
   "nav_menu": {},
   "number_sections": true,
   "sideBar": true,
   "skip_h1_title": false,
   "title_cell": "Table of Contents",
   "title_sidebar": "Contents",
   "toc_cell": false,
   "toc_position": {
    "height": "calc(100% - 180px)",
    "left": "10px",
    "top": "150px",
    "width": "281px"
   },
   "toc_section_display": true,
   "toc_window_display": true
  },
  "varInspector": {
   "cols": {
    "lenName": 16,
    "lenType": 16,
    "lenVar": 40
   },
   "kernels_config": {
    "python": {
     "delete_cmd_postfix": "",
     "delete_cmd_prefix": "del ",
     "library": "var_list.py",
     "varRefreshCmd": "print(var_dic_list())"
    },
    "r": {
     "delete_cmd_postfix": ") ",
     "delete_cmd_prefix": "rm(",
     "library": "var_list.r",
     "varRefreshCmd": "cat(var_dic_list()) "
    }
   },
   "types_to_exclude": [
    "module",
    "function",
    "builtin_function_or_method",
    "instance",
    "_Feature"
   ],
   "window_display": false
  }
 },
 "nbformat": 4,
 "nbformat_minor": 5
}
